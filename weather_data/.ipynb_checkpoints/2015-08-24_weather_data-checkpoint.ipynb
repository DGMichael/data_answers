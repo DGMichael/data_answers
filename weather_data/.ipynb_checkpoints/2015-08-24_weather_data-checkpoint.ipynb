{
 "cells": [
  {
   "cell_type": "code",
   "execution_count": 85,
   "metadata": {
    "collapsed": false
   },
   "outputs": [
    {
     "name": "stdout",
     "output_type": "stream",
     "text": [
      "Untitled.ipynb\r\n"
     ]
    }
   ],
   "source": [
    "ls"
   ]
  },
  {
   "cell_type": "code",
   "execution_count": 86,
   "metadata": {
    "collapsed": true
   },
   "outputs": [],
   "source": [
    "import requests\n",
    "import datetime"
   ]
  },
  {
   "cell_type": "code",
   "execution_count": 87,
   "metadata": {
    "collapsed": false
   },
   "outputs": [
    {
     "data": {
      "text/plain": [
       "datetime.datetime(2015, 8, 27, 17, 39, 28, 13721)"
      ]
     },
     "execution_count": 87,
     "metadata": {},
     "output_type": "execute_result"
    }
   ],
   "source": [
    "tnow = datetime.datetime.now()\n",
    "tnow"
   ]
  },
  {
   "cell_type": "code",
   "execution_count": 88,
   "metadata": {
    "collapsed": false
   },
   "outputs": [],
   "source": [
    "#Test the api:\n",
    "r = requests.get('https://api.forecast.io/forecast/ddff5421ea9208aa56645e77155f6aae/37.8267,-122.423')"
   ]
  },
  {
   "cell_type": "code",
   "execution_count": 89,
   "metadata": {
    "collapsed": false
   },
   "outputs": [
    {
     "data": {
      "text/plain": [
       "u'{\"latitude\":37.8267,\"longitude\":-122.423,\"timezone\":\"America/Los_Angeles\",\"offset\":-7,\"currently\":{\"time\":1440711572,\"summary\":\"Partly Cloudy\",\"icon\":\"partly-cloudy-day\",\"nearestStormDistance\":105,\"nearestStormBearing\":132,\"precipIntensity\":0,\"precipProbability\":0,\"temperature\":77.19,\"apparentTemperature\":77.19,\"dewPoint\":52.85,\"humidity\":0.43,\"windSpeed\":11.47,\"windBearing\":277,\"visibility\":9.82,\"cloudCover\":0.28,\"pressure\":1015.89,\"ozone\":291.92},\"minutely\":{\"summary\":\"Partly cloudy for the hour.\",\"icon\":\"partly-cloudy-day\",\"data\":[{\"time\":1440711540,\"precipIntensity\":0,\"precipProbability\":0},{\"time\":1440711600,\"precipIntensity\":0,\"precipProbability\":0},{\"time\":1440711660,\"precipIntensity\":0,\"precipProbability\":0},{\"time\":1440711720,\"precipIntensity\":0,\"precipProbability\":0},{\"time\":1440711780,\"precipIntensity\":0,\"precipProbability\":0},{\"time\":1440711840,\"precipIntensity\":0,\"precipProbability\":0},{\"time\":1440711900,\"precipIntensity\":0,\"precipProbability\":0},{\"time\":1440711960,\"precipIntensity\":0,\"precipProbability\":0},{\"time\":1440712020,\"precipIntensity\":0,\"precipProbability\":0},{\"time\":1440712080,\"precipIntensity\":0,\"precipProbability\":0},{\"time\":1440712140,\"precipIntensity\":0,\"precipProbability\":0},{\"time\":1440712200,\"precipIntensity\":0,\"precipProbability\":0},{\"time\":1440712260,\"precipIntensity\":0,\"precipProbability\":0},{\"time\":1440712320,\"precipIntensity\":0,\"precipProbability\":0},{\"time\":1440712380,\"precipIntensity\":0,\"precipProbability\":0},{\"time\":1440712440,\"precipIntensity\":0,\"precipProbability\":0},{\"time\":1440712500,\"precipIntensity\":0,\"precipProbability\":0},{\"time\":1440712560,\"precipIntensity\":0,\"precipProbability\":0},{\"time\":1440712620,\"precipIntensity\":0,\"precipProbability\":0},{\"time\":1440712680,\"precipIntensity\":0,\"precipProbability\":0},{\"time\":1440712740,\"precipIntensity\":0,\"precipProbability\":0},{\"time\":1440712800,\"precipIntensity\":0,\"precipProbability\":0},{\"time\":1440712860,\"precipIntensity\":0,\"precipProbability\":0},{\"time\":1440712920,\"precipIntensity\":0,\"precipProbability\":0},{\"time\":1440712980,\"precipIntensity\":0,\"precipProbability\":0},{\"time\":1440713040,\"precipIntensity\":0,\"precipProbability\":0},{\"time\":1440713100,\"precipIntensity\":0,\"precipProbability\":0},{\"time\":1440713160,\"precipIntensity\":0,\"precipProbability\":0},{\"time\":1440713220,\"precipIntensity\":0,\"precipProbability\":0},{\"time\":1440713280,\"precipIntensity\":0,\"precipProbability\":0},{\"time\":1440713340,\"precipIntensity\":0,\"precipProbability\":0},{\"time\":1440713400,\"precipIntensity\":0,\"precipProbability\":0},{\"time\":1440713460,\"precipIntensity\":0,\"precipProbability\":0},{\"time\":1440713520,\"precipIntensity\":0,\"precipProbability\":0},{\"time\":1440713580,\"precipIntensity\":0,\"precipProbability\":0},{\"time\":1440713640,\"precipIntensity\":0,\"precipProbability\":0},{\"time\":1440713700,\"precipIntensity\":0,\"precipProbability\":0},{\"time\":1440713760,\"precipIntensity\":0,\"precipProbability\":0},{\"time\":1440713820,\"precipIntensity\":0,\"precipProbability\":0},{\"time\":1440713880,\"precipIntensity\":0,\"precipProbability\":0},{\"time\":1440713940,\"precipIntensity\":0,\"precipProbability\":0},{\"time\":1440714000,\"precipIntensity\":0,\"precipProbability\":0},{\"time\":1440714060,\"precipIntensity\":0,\"precipProbability\":0},{\"time\":1440714120,\"precipIntensity\":0,\"precipProbability\":0},{\"time\":1440714180,\"precipIntensity\":0,\"precipProbability\":0},{\"time\":1440714240,\"precipIntensity\":0,\"precipProbability\":0},{\"time\":1440714300,\"precipIntensity\":0,\"precipProbability\":0},{\"time\":1440714360,\"precipIntensity\":0,\"precipProbability\":0},{\"time\":1440714420,\"precipIntensity\":0,\"precipProbability\":0},{\"time\":1440714480,\"precipIntensity\":0,\"precipProbability\":0},{\"time\":1440714540,\"precipIntensity\":0,\"precipProbability\":0},{\"time\":1440714600,\"precipIntensity\":0,\"precipProbability\":0},{\"time\":1440714660,\"precipIntensity\":0,\"precipProbability\":0},{\"time\":1440714720,\"precipIntensity\":0,\"precipProbability\":0},{\"time\":1440714780,\"precipIntensity\":0,\"precipProbability\":0},{\"time\":1440714840,\"precipIntensity\":0,\"precipProbability\":0},{\"time\":1440714900,\"precipIntensity\":0,\"precipProbability\":0},{\"time\":1440714960,\"precipIntensity\":0,\"precipProbability\":0},{\"time\":1440715020,\"precipIntensity\":0,\"precipProbability\":0},{\"time\":1440715080,\"precipIntensity\":0,\"precipProbability\":0},{\"time\":1440715140,\"precipIntensity\":0,\"precipProbability\":0}]},\"hourly\":{\"summary\":\"Partly cloudy starting this evening.\",\"icon\":\"partly-cloudy-night\",\"data\":[{\"time\":1440709200,\"summary\":\"Partly Cloudy\",\"icon\":\"partly-cloudy-day\",\"precipIntensity\":0,\"precipProbability\":0,\"temperature\":77.14,\"apparentTemperature\":77.14,\"dewPoint\":52.3,\"humidity\":0.42,\"windSpeed\":10.58,\"windBearing\":274,\"visibility\":9.88,\"cloudCover\":0.34,\"pressure\":1016.1,\"ozone\":292.76},{\"time\":1440712800,\"summary\":\"Clear\",\"icon\":\"clear-day\",\"precipIntensity\":0,\"precipProbability\":0,\"temperature\":77.22,\"apparentTemperature\":77.22,\"dewPoint\":53.13,\"humidity\":0.43,\"windSpeed\":11.94,\"windBearing\":278,\"visibility\":9.78,\"cloudCover\":0.24,\"pressure\":1015.78,\"ozone\":291.49},{\"time\":1440716400,\"summary\":\"Clear\",\"icon\":\"clear-day\",\"precipIntensity\":0,\"precipProbability\":0,\"temperature\":77.72,\"apparentTemperature\":77.72,\"dewPoint\":54.33,\"humidity\":0.44,\"windSpeed\":12.54,\"windBearing\":285,\"visibility\":9.82,\"cloudCover\":0.21,\"pressure\":1015.51,\"ozone\":289.69},{\"time\":1440720000,\"summary\":\"Clear\",\"icon\":\"clear-day\",\"precipIntensity\":0,\"precipProbability\":0,\"temperature\":77.36,\"apparentTemperature\":77.36,\"dewPoint\":54.21,\"humidity\":0.45,\"windSpeed\":11.9,\"windBearing\":289,\"visibility\":9.87,\"cloudCover\":0.21,\"pressure\":1015.25,\"ozone\":288.2},{\"time\":1440723600,\"summary\":\"Partly Cloudy\",\"icon\":\"partly-cloudy-day\",\"precipIntensity\":0,\"precipProbability\":0,\"temperature\":76.26,\"apparentTemperature\":76.26,\"dewPoint\":54.16,\"humidity\":0.46,\"windSpeed\":11.47,\"windBearing\":291,\"visibility\":9.92,\"cloudCover\":0.28,\"pressure\":1014.95,\"ozone\":287.48},{\"time\":1440727200,\"summary\":\"Partly Cloudy\",\"icon\":\"partly-cloudy-day\",\"precipIntensity\":0,\"precipProbability\":0,\"temperature\":74.24,\"apparentTemperature\":74.24,\"dewPoint\":54.37,\"humidity\":0.5,\"windSpeed\":10.53,\"windBearing\":293,\"visibility\":9.93,\"cloudCover\":0.39,\"pressure\":1014.65,\"ozone\":287.08},{\"time\":1440730800,\"summary\":\"Partly Cloudy\",\"icon\":\"partly-cloudy-night\",\"precipIntensity\":0,\"precipProbability\":0,\"temperature\":71.88,\"apparentTemperature\":71.88,\"dewPoint\":54.61,\"humidity\":0.55,\"windSpeed\":9.6,\"windBearing\":297,\"visibility\":9.83,\"cloudCover\":0.47,\"pressure\":1014.5,\"ozone\":286.53},{\"time\":1440734400,\"summary\":\"Partly Cloudy\",\"icon\":\"partly-cloudy-night\",\"precipIntensity\":0,\"precipProbability\":0,\"temperature\":70,\"apparentTemperature\":70,\"dewPoint\":55.21,\"humidity\":0.59,\"windSpeed\":8.83,\"windBearing\":297,\"visibility\":9.78,\"cloudCover\":0.49,\"pressure\":1014.57,\"ozone\":285.67},{\"time\":1440738000,\"summary\":\"Partly Cloudy\",\"icon\":\"partly-cloudy-night\",\"precipIntensity\":0,\"precipProbability\":0,\"temperature\":68.5,\"apparentTemperature\":68.5,\"dewPoint\":55.2,\"humidity\":0.63,\"windSpeed\":7.96,\"windBearing\":297,\"visibility\":9.76,\"cloudCover\":0.43,\"pressure\":1014.76,\"ozone\":284.66},{\"time\":1440741600,\"summary\":\"Partly Cloudy\",\"icon\":\"partly-cloudy-night\",\"precipIntensity\":0,\"precipProbability\":0,\"temperature\":67.47,\"apparentTemperature\":67.47,\"dewPoint\":55.23,\"humidity\":0.65,\"windSpeed\":7.11,\"windBearing\":294,\"visibility\":9.69,\"cloudCover\":0.41,\"pressure\":1014.81,\"ozone\":283.55},{\"time\":1440745200,\"summary\":\"Partly Cloudy\",\"icon\":\"partly-cloudy-night\",\"precipIntensity\":0,\"precipProbability\":0,\"temperature\":66.44,\"apparentTemperature\":66.44,\"dewPoint\":55.66,\"humidity\":0.68,\"windSpeed\":7.8,\"windBearing\":296,\"visibility\":9.45,\"cloudCover\":0.38,\"pressure\":1014.61,\"ozone\":282.21},{\"time\":1440748800,\"summary\":\"Partly Cloudy\",\"icon\":\"partly-cloudy-night\",\"precipIntensity\":0,\"precipProbability\":0,\"temperature\":65.31,\"apparentTemperature\":65.31,\"dewPoint\":55.95,\"humidity\":0.72,\"windSpeed\":7.62,\"windBearing\":299,\"visibility\":9.19,\"cloudCover\":0.33,\"pressure\":1014.29,\"ozone\":280.75},{\"time\":1440752400,\"summary\":\"Partly Cloudy\",\"icon\":\"partly-cloudy-night\",\"precipIntensity\":0,\"precipProbability\":0,\"temperature\":64.86,\"apparentTemperature\":64.86,\"dewPoint\":56.22,\"humidity\":0.74,\"windSpeed\":6.63,\"windBearing\":298,\"visibility\":8.93,\"cloudCover\":0.29,\"pressure\":1014.03,\"ozone\":279.65},{\"time\":1440756000,\"summary\":\"Partly Cloudy\",\"icon\":\"partly-cloudy-night\",\"precipIntensity\":0,\"precipProbability\":0,\"temperature\":64.33,\"apparentTemperature\":64.33,\"dewPoint\":56.29,\"humidity\":0.75,\"windSpeed\":5.47,\"windBearing\":289,\"visibility\":8.77,\"cloudCover\":0.33,\"pressure\":1013.88,\"ozone\":279.13},{\"time\":1440759600,\"summary\":\"Partly Cloudy\",\"icon\":\"partly-cloudy-night\",\"precipIntensity\":0,\"precipProbability\":0,\"temperature\":63.94,\"apparentTemperature\":63.94,\"dewPoint\":56.37,\"humidity\":0.76,\"windSpeed\":4.61,\"windBearing\":282,\"visibility\":8.66,\"cloudCover\":0.44,\"pressure\":1013.77,\"ozone\":278.95},{\"time\":1440763200,\"summary\":\"Partly Cloudy\",\"icon\":\"partly-cloudy-night\",\"precipIntensity\":0,\"precipProbability\":0,\"temperature\":63.77,\"apparentTemperature\":63.77,\"dewPoint\":56.66,\"humidity\":0.78,\"windSpeed\":4.6,\"windBearing\":279,\"visibility\":8.52,\"cloudCover\":0.53,\"pressure\":1013.67,\"ozone\":278.82},{\"time\":1440766800,\"summary\":\"Partly Cloudy\",\"icon\":\"partly-cloudy-night\",\"precipIntensity\":0,\"precipProbability\":0,\"temperature\":63.91,\"apparentTemperature\":63.91,\"dewPoint\":57.3,\"humidity\":0.79,\"windSpeed\":5.13,\"windBearing\":286,\"visibility\":8.33,\"cloudCover\":0.58,\"pressure\":1013.58,\"ozone\":278.63},{\"time\":1440770400,\"summary\":\"Mostly Cloudy\",\"icon\":\"partly-cloudy-day\",\"precipIntensity\":0,\"precipProbability\":0,\"temperature\":64.59,\"apparentTemperature\":64.59,\"dewPoint\":58,\"humidity\":0.79,\"windSpeed\":4.63,\"windBearing\":280,\"visibility\":7.83,\"cloudCover\":0.64,\"pressure\":1013.5,\"ozone\":278.49},{\"time\":1440774000,\"summary\":\"Mostly Cloudy\",\"icon\":\"partly-cloudy-day\",\"precipIntensity\":0,\"precipProbability\":0,\"temperature\":66.59,\"apparentTemperature\":66.59,\"dewPoint\":58.87,\"humidity\":0.76,\"windSpeed\":4.28,\"windBearing\":269,\"visibility\":8.37,\"cloudCover\":0.67,\"pressure\":1013.44,\"ozone\":278.37},{\"time\":1440777600,\"summary\":\"Mostly Cloudy\",\"icon\":\"partly-cloudy-day\",\"precipIntensity\":0,\"precipProbability\":0,\"temperature\":69.09,\"apparentTemperature\":69.09,\"dewPoint\":59.58,\"humidity\":0.72,\"windSpeed\":4.93,\"windBearing\":261,\"visibility\":8.92,\"cloudCover\":0.64,\"pressure\":1013.43,\"ozone\":278.26},{\"time\":1440781200,\"summary\":\"Partly Cloudy\",\"icon\":\"partly-cloudy-day\",\"precipIntensity\":0,\"precipProbability\":0,\"temperature\":72.21,\"apparentTemperature\":72.21,\"dewPoint\":60.55,\"humidity\":0.67,\"windSpeed\":5.91,\"windBearing\":258,\"visibility\":9.36,\"cloudCover\":0.57,\"pressure\":1013.44,\"ozone\":278.18},{\"time\":1440784800,\"summary\":\"Partly Cloudy\",\"icon\":\"partly-cloudy-day\",\"precipIntensity\":0,\"precipProbability\":0,\"temperature\":74.96,\"apparentTemperature\":74.96,\"dewPoint\":60.69,\"humidity\":0.61,\"windSpeed\":6.85,\"windBearing\":258,\"visibility\":9.65,\"cloudCover\":0.46,\"pressure\":1013.4,\"ozone\":278.18},{\"time\":1440788400,\"summary\":\"Partly Cloudy\",\"icon\":\"partly-cloudy-day\",\"precipIntensity\":0,\"precipProbability\":0,\"temperature\":77.27,\"apparentTemperature\":77.27,\"dewPoint\":60.78,\"humidity\":0.57,\"windSpeed\":8.26,\"windBearing\":261,\"visibility\":10,\"cloudCover\":0.47,\"pressure\":1013.3,\"ozone\":278.3},{\"time\":1440792000,\"summary\":\"Partly Cloudy\",\"icon\":\"partly-cloudy-day\",\"precipIntensity\":0,\"precipProbability\":0,\"temperature\":78.84,\"apparentTemperature\":78.84,\"dewPoint\":60.79,\"humidity\":0.54,\"windSpeed\":9.75,\"windBearing\":266,\"visibility\":10,\"cloudCover\":0.5,\"pressure\":1013.1,\"ozone\":278.49},{\"time\":1440795600,\"summary\":\"Mostly Cloudy\",\"icon\":\"partly-cloudy-day\",\"precipIntensity\":0,\"precipProbability\":0,\"temperature\":78.25,\"apparentTemperature\":78.25,\"dewPoint\":60.7,\"humidity\":0.55,\"windSpeed\":10.97,\"windBearing\":270,\"visibility\":10,\"cloudCover\":0.61,\"pressure\":1012.81,\"ozone\":278.75},{\"time\":1440799200,\"summary\":\"Mostly Cloudy\",\"icon\":\"partly-cloudy-day\",\"precipIntensity\":0,\"precipProbability\":0,\"temperature\":76.89,\"apparentTemperature\":76.89,\"dewPoint\":60.33,\"humidity\":0.57,\"windSpeed\":11.8,\"windBearing\":274,\"visibility\":10,\"cloudCover\":0.67,\"pressure\":1012.4,\"ozone\":279.08},{\"time\":1440802800,\"summary\":\"Mostly Cloudy\",\"icon\":\"partly-cloudy-day\",\"precipIntensity\":0,\"precipProbability\":0,\"temperature\":74.7,\"apparentTemperature\":74.7,\"dewPoint\":59.83,\"humidity\":0.6,\"windSpeed\":12.36,\"windBearing\":277,\"visibility\":10,\"cloudCover\":0.71,\"pressure\":1011.96,\"ozone\":279.48},{\"time\":1440806400,\"summary\":\"Mostly Cloudy\",\"icon\":\"partly-cloudy-day\",\"precipIntensity\":0,\"precipProbability\":0,\"temperature\":72.46,\"apparentTemperature\":72.46,\"dewPoint\":59.57,\"humidity\":0.64,\"windSpeed\":12.57,\"windBearing\":279,\"visibility\":10,\"cloudCover\":0.72,\"pressure\":1011.62,\"ozone\":279.83},{\"time\":1440810000,\"summary\":\"Mostly Cloudy\",\"icon\":\"partly-cloudy-day\",\"precipIntensity\":0,\"precipProbability\":0,\"temperature\":70.31,\"apparentTemperature\":70.31,\"dewPoint\":59.75,\"humidity\":0.69,\"windSpeed\":11.72,\"windBearing\":279,\"visibility\":10,\"cloudCover\":0.71,\"pressure\":1011.42,\"ozone\":280.04},{\"time\":1440813600,\"summary\":\"Mostly Cloudy\",\"icon\":\"partly-cloudy-day\",\"precipIntensity\":0,\"precipProbability\":0,\"temperature\":68.02,\"apparentTemperature\":68.02,\"dewPoint\":60.02,\"humidity\":0.76,\"windSpeed\":10.26,\"windBearing\":276,\"visibility\":10,\"cloudCover\":0.71,\"pressure\":1011.31,\"ozone\":280.21},{\"time\":1440817200,\"summary\":\"Mostly Cloudy\",\"icon\":\"partly-cloudy-night\",\"precipIntensity\":0,\"precipProbability\":0,\"temperature\":66.37,\"apparentTemperature\":66.37,\"dewPoint\":60.36,\"humidity\":0.81,\"windSpeed\":9.1,\"windBearing\":272,\"visibility\":10,\"cloudCover\":0.7,\"pressure\":1011.33,\"ozone\":280.52},{\"time\":1440820800,\"summary\":\"Mostly Cloudy\",\"icon\":\"partly-cloudy-night\",\"precipIntensity\":0,\"precipProbability\":0,\"temperature\":65.07,\"apparentTemperature\":65.07,\"dewPoint\":60.6,\"humidity\":0.85,\"windSpeed\":8.62,\"windBearing\":266,\"visibility\":9.24,\"cloudCover\":0.74,\"pressure\":1011.55,\"ozone\":280.96},{\"time\":1440824400,\"summary\":\"Mostly Cloudy\",\"icon\":\"partly-cloudy-night\",\"precipIntensity\":0,\"precipProbability\":0,\"temperature\":63.89,\"apparentTemperature\":63.89,\"dewPoint\":60.66,\"humidity\":0.89,\"windSpeed\":8.49,\"windBearing\":259,\"visibility\":8.1,\"cloudCover\":0.79,\"pressure\":1011.88,\"ozone\":281.54},{\"time\":1440828000,\"summary\":\"Mostly Cloudy\",\"icon\":\"partly-cloudy-night\",\"precipIntensity\":0,\"precipProbability\":0,\"temperature\":62.91,\"apparentTemperature\":62.91,\"dewPoint\":60.58,\"humidity\":0.92,\"windSpeed\":8.47,\"windBearing\":252,\"visibility\":6.61,\"cloudCover\":0.85,\"pressure\":1012.18,\"ozone\":282.46},{\"time\":1440831600,\"summary\":\"Mostly Cloudy\",\"icon\":\"partly-cloudy-night\",\"precipIntensity\":0,\"precipProbability\":0,\"temperature\":62.67,\"apparentTemperature\":62.67,\"dewPoint\":60.88,\"humidity\":0.94,\"windSpeed\":8.31,\"windBearing\":248,\"visibility\":4.42,\"cloudCover\":0.89,\"pressure\":1012.38,\"ozone\":283.64},{\"time\":1440835200,\"summary\":\"Foggy\",\"icon\":\"fog\",\"precipIntensity\":0,\"precipProbability\":0,\"temperature\":62.72,\"apparentTemperature\":62.72,\"dewPoint\":61.2,\"humidity\":0.95,\"windSpeed\":7.89,\"windBearing\":246,\"visibility\":1.88,\"cloudCover\":0.94,\"pressure\":1012.55,\"ozone\":285.16},{\"time\":1440838800,\"summary\":\"Foggy\",\"icon\":\"fog\",\"precipIntensity\":0,\"precipProbability\":0,\"temperature\":62.78,\"apparentTemperature\":62.78,\"dewPoint\":61.41,\"humidity\":0.95,\"windSpeed\":7.34,\"windBearing\":242,\"visibility\":0.06,\"cloudCover\":0.97,\"pressure\":1012.72,\"ozone\":287.44},{\"time\":1440842400,\"summary\":\"Foggy\",\"icon\":\"fog\",\"precipIntensity\":0,\"precipProbability\":0,\"temperature\":62.75,\"apparentTemperature\":62.75,\"dewPoint\":61.41,\"humidity\":0.95,\"windSpeed\":6.98,\"windBearing\":233,\"visibility\":0,\"cloudCover\":0.98,\"pressure\":1012.85,\"ozone\":291.25},{\"time\":1440846000,\"summary\":\"Foggy\",\"icon\":\"fog\",\"precipIntensity\":0.0018,\"precipProbability\":0.02,\"precipType\":\"rain\",\"temperature\":62.76,\"apparentTemperature\":62.76,\"dewPoint\":61.32,\"humidity\":0.95,\"windSpeed\":6.86,\"windBearing\":224,\"visibility\":0,\"cloudCover\":0.98,\"pressure\":1012.99,\"ozone\":295.83},{\"time\":1440849600,\"summary\":\"Foggy\",\"icon\":\"fog\",\"precipIntensity\":0.0025,\"precipProbability\":0.03,\"precipType\":\"rain\",\"temperature\":62.81,\"apparentTemperature\":62.81,\"dewPoint\":61.21,\"humidity\":0.95,\"windSpeed\":6.91,\"windBearing\":216,\"visibility\":0,\"cloudCover\":0.98,\"pressure\":1013.22,\"ozone\":299.33},{\"time\":1440853200,\"summary\":\"Foggy\",\"icon\":\"fog\",\"precipIntensity\":0.0024,\"precipProbability\":0.02,\"precipType\":\"rain\",\"temperature\":62.77,\"apparentTemperature\":62.77,\"dewPoint\":60.99,\"humidity\":0.94,\"windSpeed\":6.93,\"windBearing\":213,\"visibility\":0,\"cloudCover\":0.97,\"pressure\":1013.64,\"ozone\":300.85},{\"time\":1440856800,\"summary\":\"Foggy\",\"icon\":\"fog\",\"precipIntensity\":0.002,\"precipProbability\":0.01,\"precipType\":\"rain\",\"temperature\":62.75,\"apparentTemperature\":62.75,\"dewPoint\":60.74,\"humidity\":0.93,\"windSpeed\":6.71,\"windBearing\":214,\"visibility\":0,\"cloudCover\":0.95,\"pressure\":1014.22,\"ozone\":301.29},{\"time\":1440860400,\"summary\":\"Foggy\",\"icon\":\"fog\",\"precipIntensity\":0,\"precipProbability\":0,\"temperature\":62.96,\"apparentTemperature\":62.96,\"dewPoint\":60.62,\"humidity\":0.92,\"windSpeed\":6.58,\"windBearing\":216,\"visibility\":0.04,\"cloudCover\":0.94,\"pressure\":1014.75,\"ozone\":301.61},{\"time\":1440864000,\"summary\":\"Foggy\",\"icon\":\"fog\",\"precipIntensity\":0,\"precipProbability\":0,\"temperature\":63.52,\"apparentTemperature\":63.52,\"dewPoint\":60.73,\"humidity\":0.91,\"windSpeed\":6.34,\"windBearing\":221,\"visibility\":1.95,\"cloudCover\":0.96,\"pressure\":1015.23,\"ozone\":301.95},{\"time\":1440867600,\"summary\":\"Overcast\",\"icon\":\"cloudy\",\"precipIntensity\":0,\"precipProbability\":0,\"temperature\":64.26,\"apparentTemperature\":64.26,\"dewPoint\":60.93,\"humidity\":0.89,\"windSpeed\":6.08,\"windBearing\":229,\"visibility\":4.59,\"cloudCover\":0.98,\"pressure\":1015.65,\"ozone\":302.17},{\"time\":1440871200,\"summary\":\"Overcast\",\"icon\":\"cloudy\",\"precipIntensity\":0,\"precipProbability\":0,\"temperature\":65.12,\"apparentTemperature\":65.12,\"dewPoint\":61.01,\"humidity\":0.87,\"windSpeed\":6.35,\"windBearing\":238,\"visibility\":6.68,\"cloudCover\":0.95,\"pressure\":1015.91,\"ozone\":302.74},{\"time\":1440874800,\"summary\":\"Mostly Cloudy\",\"icon\":\"partly-cloudy-day\",\"precipIntensity\":0,\"precipProbability\":0,\"temperature\":66.16,\"apparentTemperature\":66.16,\"dewPoint\":60.86,\"humidity\":0.83,\"windSpeed\":7.55,\"windBearing\":247,\"visibility\":7.59,\"cloudCover\":0.82,\"pressure\":1015.93,\"ozone\":304.12},{\"time\":1440878400,\"summary\":\"Mostly Cloudy\",\"icon\":\"partly-cloudy-day\",\"precipIntensity\":0,\"precipProbability\":0,\"temperature\":67.43,\"apparentTemperature\":67.43,\"dewPoint\":60.58,\"humidity\":0.79,\"windSpeed\":9.12,\"windBearing\":252,\"visibility\":7.95,\"cloudCover\":0.62,\"pressure\":1015.77,\"ozone\":305.85},{\"time\":1440882000,\"summary\":\"Partly Cloudy\",\"icon\":\"partly-cloudy-day\",\"precipIntensity\":0,\"precipProbability\":0,\"temperature\":68.54,\"apparentTemperature\":68.54,\"dewPoint\":60.22,\"humidity\":0.75,\"windSpeed\":10.47,\"windBearing\":257,\"visibility\":8.32,\"cloudCover\":0.46,\"pressure\":1015.57,\"ozone\":307.11}]},\"daily\":{\"summary\":\"No precipitation throughout the week, with temperatures falling to 62\\xb0F on Thursday.\",\"icon\":\"clear-day\",\"data\":[{\"time\":1440658800,\"summary\":\"Partly cloudy starting in the evening.\",\"icon\":\"partly-cloudy-night\",\"sunriseTime\":1440682608,\"sunsetTime\":1440730123,\"moonPhase\":0.42,\"precipIntensity\":0,\"precipIntensityMax\":0,\"precipProbability\":0,\"temperatureMin\":61.55,\"temperatureMinTime\":1440684000,\"temperatureMax\":77.72,\"temperatureMaxTime\":1440716400,\"apparentTemperatureMin\":61.55,\"apparentTemperatureMinTime\":1440684000,\"apparentTemperatureMax\":77.72,\"apparentTemperatureMaxTime\":1440716400,\"dewPoint\":55.33,\"humidity\":0.66,\"windSpeed\":7.03,\"windBearing\":280,\"visibility\":9.24,\"cloudCover\":0.23,\"pressure\":1015.97,\"ozone\":291.4},{\"time\":1440745200,\"summary\":\"Foggy overnight.\",\"icon\":\"fog\",\"sunriseTime\":1440769059,\"sunsetTime\":1440816437,\"moonPhase\":0.46,\"precipIntensity\":0,\"precipIntensityMax\":0,\"precipProbability\":0,\"temperatureMin\":62.91,\"temperatureMinTime\":1440828000,\"temperatureMax\":78.84,\"temperatureMaxTime\":1440792000,\"apparentTemperatureMin\":62.91,\"apparentTemperatureMinTime\":1440828000,\"apparentTemperatureMax\":78.84,\"apparentTemperatureMaxTime\":1440792000,\"dewPoint\":59,\"humidity\":0.72,\"windSpeed\":7.77,\"windBearing\":274,\"visibility\":9.18,\"cloudCover\":0.58,\"pressure\":1012.91,\"ozone\":279.55},{\"time\":1440831600,\"summary\":\"Foggy in the morning.\",\"icon\":\"fog\",\"sunriseTime\":1440855511,\"sunsetTime\":1440902750,\"moonPhase\":0.49,\"precipIntensity\":0.0006,\"precipIntensityMax\":0.0025,\"precipIntensityMaxTime\":1440849600,\"precipProbability\":0.03,\"precipType\":\"rain\",\"temperatureMin\":61.2,\"temperatureMinTime\":1440914400,\"temperatureMax\":70.28,\"temperatureMaxTime\":1440892800,\"apparentTemperatureMin\":61.2,\"apparentTemperatureMinTime\":1440914400,\"apparentTemperatureMax\":70.28,\"apparentTemperatureMaxTime\":1440892800,\"dewPoint\":59.9,\"humidity\":0.85,\"windSpeed\":8,\"windBearing\":254,\"visibility\":5.45,\"cloudCover\":0.65,\"pressure\":1014.68,\"ozone\":301.88},{\"time\":1440918000,\"summary\":\"Partly cloudy until afternoon.\",\"icon\":\"partly-cloudy-day\",\"sunriseTime\":1440941962,\"sunsetTime\":1440989062,\"moonPhase\":0.54,\"precipIntensity\":0,\"precipIntensityMax\":0,\"precipProbability\":0,\"temperatureMin\":59.74,\"temperatureMinTime\":1440925200,\"temperatureMax\":71.88,\"temperatureMaxTime\":1440972000,\"apparentTemperatureMin\":59.74,\"apparentTemperatureMinTime\":1440925200,\"apparentTemperatureMax\":71.88,\"apparentTemperatureMaxTime\":1440972000,\"dewPoint\":56.07,\"humidity\":0.76,\"windSpeed\":9.23,\"windBearing\":284,\"visibility\":10,\"cloudCover\":0.27,\"pressure\":1016.57,\"ozone\":325.14},{\"time\":1441004400,\"summary\":\"Mostly cloudy until afternoon.\",\"icon\":\"partly-cloudy-day\",\"sunriseTime\":1441028412,\"sunsetTime\":1441075374,\"moonPhase\":0.57,\"precipIntensity\":0,\"precipIntensityMax\":0,\"precipProbability\":0,\"temperatureMin\":58.71,\"temperatureMinTime\":1441087200,\"temperatureMax\":65.53,\"temperatureMaxTime\":1441054800,\"apparentTemperatureMin\":58.71,\"apparentTemperatureMinTime\":1441087200,\"apparentTemperatureMax\":65.53,\"apparentTemperatureMaxTime\":1441054800,\"dewPoint\":54.16,\"humidity\":0.78,\"windSpeed\":6.42,\"windBearing\":248,\"cloudCover\":0.31,\"pressure\":1013.87,\"ozone\":318.92},{\"time\":1441090800,\"summary\":\"Clear throughout the day.\",\"icon\":\"clear-day\",\"sunriseTime\":1441114863,\"sunsetTime\":1441161686,\"moonPhase\":0.61,\"precipIntensity\":0,\"precipIntensityMax\":0,\"precipProbability\":0,\"temperatureMin\":58.51,\"temperatureMinTime\":1441090800,\"temperatureMax\":65.54,\"temperatureMaxTime\":1441137600,\"apparentTemperatureMin\":58.51,\"apparentTemperatureMinTime\":1441090800,\"apparentTemperatureMax\":65.54,\"apparentTemperatureMaxTime\":1441137600,\"dewPoint\":53.64,\"humidity\":0.77,\"windSpeed\":8.62,\"windBearing\":255,\"cloudCover\":0.01,\"pressure\":1013.33,\"ozone\":315.14},{\"time\":1441177200,\"summary\":\"Mostly cloudy until evening.\",\"icon\":\"partly-cloudy-day\",\"sunriseTime\":1441201314,\"sunsetTime\":1441247997,\"moonPhase\":0.65,\"precipIntensity\":0.0006,\"precipIntensityMax\":0.0012,\"precipIntensityMaxTime\":1441209600,\"precipProbability\":0.01,\"precipType\":\"rain\",\"temperatureMin\":58.45,\"temperatureMinTime\":1441256400,\"temperatureMax\":63.53,\"temperatureMaxTime\":1441234800,\"apparentTemperatureMin\":58.45,\"apparentTemperatureMinTime\":1441256400,\"apparentTemperatureMax\":63.53,\"apparentTemperatureMaxTime\":1441234800,\"dewPoint\":55.01,\"humidity\":0.82,\"windSpeed\":9.01,\"windBearing\":257,\"cloudCover\":0.5,\"pressure\":1014.14,\"ozone\":307.08},{\"time\":1441263600,\"summary\":\"Partly cloudy throughout the day.\",\"icon\":\"partly-cloudy-day\",\"sunriseTime\":1441287765,\"sunsetTime\":1441334307,\"moonPhase\":0.69,\"precipIntensity\":0.0003,\"precipIntensityMax\":0.0012,\"precipIntensityMaxTime\":1441317600,\"precipProbability\":0.01,\"precipType\":\"rain\",\"temperatureMin\":58.38,\"temperatureMinTime\":1441342800,\"temperatureMax\":62.2,\"temperatureMaxTime\":1441321200,\"apparentTemperatureMin\":58.38,\"apparentTemperatureMinTime\":1441342800,\"apparentTemperatureMax\":62.2,\"apparentTemperatureMaxTime\":1441321200,\"dewPoint\":53.55,\"humidity\":0.79,\"windSpeed\":6.99,\"windBearing\":249,\"cloudCover\":0.37,\"pressure\":1014.76,\"ozone\":311.84}]},\"flags\":{\"sources\":[\"nwspa\",\"isd\",\"nearest-precip\",\"darksky\",\"fnmoc\",\"sref\",\"rtma\",\"rap\",\"nam\",\"cmc\",\"gfs\",\"madis\",\"lamp\"],\"isd-stations\":[\"724943-99999\",\"745039-99999\",\"745065-99999\",\"994016-99999\",\"999999-23272\"],\"darksky-stations\":[\"KMUX\"],\"madis-stations\":[\"AU915\",\"C5988\",\"C8158\",\"C9629\",\"CQ147\",\"CQ188\",\"D5422\",\"D8533\",\"E0426\",\"E6067\",\"FTPC1\",\"GGBC1\",\"OKXC1\",\"PPXC1\",\"PXOC1\",\"SFOC1\"],\"lamp-stations\":[\"KAPC\",\"KCCR\",\"KHWD\",\"KLVK\",\"KNUQ\",\"KOAK\",\"KPAO\",\"KSFO\",\"KSQL\"],\"units\":\"us\"}}'"
      ]
     },
     "execution_count": 89,
     "metadata": {},
     "output_type": "execute_result"
    }
   ],
   "source": [
    "r.text"
   ]
  },
  {
   "cell_type": "code",
   "execution_count": 90,
   "metadata": {
    "collapsed": false
   },
   "outputs": [
    {
     "data": {
      "text/plain": [
       "[u'hourly',\n",
       " u'currently',\n",
       " u'longitude',\n",
       " u'flags',\n",
       " u'daily',\n",
       " u'offset',\n",
       " u'latitude',\n",
       " u'timezone',\n",
       " u'minutely']"
      ]
     },
     "execution_count": 90,
     "metadata": {},
     "output_type": "execute_result"
    }
   ],
   "source": [
    "r.json().keys()"
   ]
  },
  {
   "cell_type": "code",
   "execution_count": 91,
   "metadata": {
    "collapsed": false
   },
   "outputs": [
    {
     "data": {
      "text/plain": [
       "{u'data': [{u'apparentTemperature': 77.14,\n",
       "   u'cloudCover': 0.34,\n",
       "   u'dewPoint': 52.3,\n",
       "   u'humidity': 0.42,\n",
       "   u'icon': u'partly-cloudy-day',\n",
       "   u'ozone': 292.76,\n",
       "   u'precipIntensity': 0,\n",
       "   u'precipProbability': 0,\n",
       "   u'pressure': 1016.1,\n",
       "   u'summary': u'Partly Cloudy',\n",
       "   u'temperature': 77.14,\n",
       "   u'time': 1440709200,\n",
       "   u'visibility': 9.88,\n",
       "   u'windBearing': 274,\n",
       "   u'windSpeed': 10.58},\n",
       "  {u'apparentTemperature': 77.22,\n",
       "   u'cloudCover': 0.24,\n",
       "   u'dewPoint': 53.13,\n",
       "   u'humidity': 0.43,\n",
       "   u'icon': u'clear-day',\n",
       "   u'ozone': 291.49,\n",
       "   u'precipIntensity': 0,\n",
       "   u'precipProbability': 0,\n",
       "   u'pressure': 1015.78,\n",
       "   u'summary': u'Clear',\n",
       "   u'temperature': 77.22,\n",
       "   u'time': 1440712800,\n",
       "   u'visibility': 9.78,\n",
       "   u'windBearing': 278,\n",
       "   u'windSpeed': 11.94},\n",
       "  {u'apparentTemperature': 77.72,\n",
       "   u'cloudCover': 0.21,\n",
       "   u'dewPoint': 54.33,\n",
       "   u'humidity': 0.44,\n",
       "   u'icon': u'clear-day',\n",
       "   u'ozone': 289.69,\n",
       "   u'precipIntensity': 0,\n",
       "   u'precipProbability': 0,\n",
       "   u'pressure': 1015.51,\n",
       "   u'summary': u'Clear',\n",
       "   u'temperature': 77.72,\n",
       "   u'time': 1440716400,\n",
       "   u'visibility': 9.82,\n",
       "   u'windBearing': 285,\n",
       "   u'windSpeed': 12.54},\n",
       "  {u'apparentTemperature': 77.36,\n",
       "   u'cloudCover': 0.21,\n",
       "   u'dewPoint': 54.21,\n",
       "   u'humidity': 0.45,\n",
       "   u'icon': u'clear-day',\n",
       "   u'ozone': 288.2,\n",
       "   u'precipIntensity': 0,\n",
       "   u'precipProbability': 0,\n",
       "   u'pressure': 1015.25,\n",
       "   u'summary': u'Clear',\n",
       "   u'temperature': 77.36,\n",
       "   u'time': 1440720000,\n",
       "   u'visibility': 9.87,\n",
       "   u'windBearing': 289,\n",
       "   u'windSpeed': 11.9},\n",
       "  {u'apparentTemperature': 76.26,\n",
       "   u'cloudCover': 0.28,\n",
       "   u'dewPoint': 54.16,\n",
       "   u'humidity': 0.46,\n",
       "   u'icon': u'partly-cloudy-day',\n",
       "   u'ozone': 287.48,\n",
       "   u'precipIntensity': 0,\n",
       "   u'precipProbability': 0,\n",
       "   u'pressure': 1014.95,\n",
       "   u'summary': u'Partly Cloudy',\n",
       "   u'temperature': 76.26,\n",
       "   u'time': 1440723600,\n",
       "   u'visibility': 9.92,\n",
       "   u'windBearing': 291,\n",
       "   u'windSpeed': 11.47},\n",
       "  {u'apparentTemperature': 74.24,\n",
       "   u'cloudCover': 0.39,\n",
       "   u'dewPoint': 54.37,\n",
       "   u'humidity': 0.5,\n",
       "   u'icon': u'partly-cloudy-day',\n",
       "   u'ozone': 287.08,\n",
       "   u'precipIntensity': 0,\n",
       "   u'precipProbability': 0,\n",
       "   u'pressure': 1014.65,\n",
       "   u'summary': u'Partly Cloudy',\n",
       "   u'temperature': 74.24,\n",
       "   u'time': 1440727200,\n",
       "   u'visibility': 9.93,\n",
       "   u'windBearing': 293,\n",
       "   u'windSpeed': 10.53},\n",
       "  {u'apparentTemperature': 71.88,\n",
       "   u'cloudCover': 0.47,\n",
       "   u'dewPoint': 54.61,\n",
       "   u'humidity': 0.55,\n",
       "   u'icon': u'partly-cloudy-night',\n",
       "   u'ozone': 286.53,\n",
       "   u'precipIntensity': 0,\n",
       "   u'precipProbability': 0,\n",
       "   u'pressure': 1014.5,\n",
       "   u'summary': u'Partly Cloudy',\n",
       "   u'temperature': 71.88,\n",
       "   u'time': 1440730800,\n",
       "   u'visibility': 9.83,\n",
       "   u'windBearing': 297,\n",
       "   u'windSpeed': 9.6},\n",
       "  {u'apparentTemperature': 70,\n",
       "   u'cloudCover': 0.49,\n",
       "   u'dewPoint': 55.21,\n",
       "   u'humidity': 0.59,\n",
       "   u'icon': u'partly-cloudy-night',\n",
       "   u'ozone': 285.67,\n",
       "   u'precipIntensity': 0,\n",
       "   u'precipProbability': 0,\n",
       "   u'pressure': 1014.57,\n",
       "   u'summary': u'Partly Cloudy',\n",
       "   u'temperature': 70,\n",
       "   u'time': 1440734400,\n",
       "   u'visibility': 9.78,\n",
       "   u'windBearing': 297,\n",
       "   u'windSpeed': 8.83},\n",
       "  {u'apparentTemperature': 68.5,\n",
       "   u'cloudCover': 0.43,\n",
       "   u'dewPoint': 55.2,\n",
       "   u'humidity': 0.63,\n",
       "   u'icon': u'partly-cloudy-night',\n",
       "   u'ozone': 284.66,\n",
       "   u'precipIntensity': 0,\n",
       "   u'precipProbability': 0,\n",
       "   u'pressure': 1014.76,\n",
       "   u'summary': u'Partly Cloudy',\n",
       "   u'temperature': 68.5,\n",
       "   u'time': 1440738000,\n",
       "   u'visibility': 9.76,\n",
       "   u'windBearing': 297,\n",
       "   u'windSpeed': 7.96},\n",
       "  {u'apparentTemperature': 67.47,\n",
       "   u'cloudCover': 0.41,\n",
       "   u'dewPoint': 55.23,\n",
       "   u'humidity': 0.65,\n",
       "   u'icon': u'partly-cloudy-night',\n",
       "   u'ozone': 283.55,\n",
       "   u'precipIntensity': 0,\n",
       "   u'precipProbability': 0,\n",
       "   u'pressure': 1014.81,\n",
       "   u'summary': u'Partly Cloudy',\n",
       "   u'temperature': 67.47,\n",
       "   u'time': 1440741600,\n",
       "   u'visibility': 9.69,\n",
       "   u'windBearing': 294,\n",
       "   u'windSpeed': 7.11},\n",
       "  {u'apparentTemperature': 66.44,\n",
       "   u'cloudCover': 0.38,\n",
       "   u'dewPoint': 55.66,\n",
       "   u'humidity': 0.68,\n",
       "   u'icon': u'partly-cloudy-night',\n",
       "   u'ozone': 282.21,\n",
       "   u'precipIntensity': 0,\n",
       "   u'precipProbability': 0,\n",
       "   u'pressure': 1014.61,\n",
       "   u'summary': u'Partly Cloudy',\n",
       "   u'temperature': 66.44,\n",
       "   u'time': 1440745200,\n",
       "   u'visibility': 9.45,\n",
       "   u'windBearing': 296,\n",
       "   u'windSpeed': 7.8},\n",
       "  {u'apparentTemperature': 65.31,\n",
       "   u'cloudCover': 0.33,\n",
       "   u'dewPoint': 55.95,\n",
       "   u'humidity': 0.72,\n",
       "   u'icon': u'partly-cloudy-night',\n",
       "   u'ozone': 280.75,\n",
       "   u'precipIntensity': 0,\n",
       "   u'precipProbability': 0,\n",
       "   u'pressure': 1014.29,\n",
       "   u'summary': u'Partly Cloudy',\n",
       "   u'temperature': 65.31,\n",
       "   u'time': 1440748800,\n",
       "   u'visibility': 9.19,\n",
       "   u'windBearing': 299,\n",
       "   u'windSpeed': 7.62},\n",
       "  {u'apparentTemperature': 64.86,\n",
       "   u'cloudCover': 0.29,\n",
       "   u'dewPoint': 56.22,\n",
       "   u'humidity': 0.74,\n",
       "   u'icon': u'partly-cloudy-night',\n",
       "   u'ozone': 279.65,\n",
       "   u'precipIntensity': 0,\n",
       "   u'precipProbability': 0,\n",
       "   u'pressure': 1014.03,\n",
       "   u'summary': u'Partly Cloudy',\n",
       "   u'temperature': 64.86,\n",
       "   u'time': 1440752400,\n",
       "   u'visibility': 8.93,\n",
       "   u'windBearing': 298,\n",
       "   u'windSpeed': 6.63},\n",
       "  {u'apparentTemperature': 64.33,\n",
       "   u'cloudCover': 0.33,\n",
       "   u'dewPoint': 56.29,\n",
       "   u'humidity': 0.75,\n",
       "   u'icon': u'partly-cloudy-night',\n",
       "   u'ozone': 279.13,\n",
       "   u'precipIntensity': 0,\n",
       "   u'precipProbability': 0,\n",
       "   u'pressure': 1013.88,\n",
       "   u'summary': u'Partly Cloudy',\n",
       "   u'temperature': 64.33,\n",
       "   u'time': 1440756000,\n",
       "   u'visibility': 8.77,\n",
       "   u'windBearing': 289,\n",
       "   u'windSpeed': 5.47},\n",
       "  {u'apparentTemperature': 63.94,\n",
       "   u'cloudCover': 0.44,\n",
       "   u'dewPoint': 56.37,\n",
       "   u'humidity': 0.76,\n",
       "   u'icon': u'partly-cloudy-night',\n",
       "   u'ozone': 278.95,\n",
       "   u'precipIntensity': 0,\n",
       "   u'precipProbability': 0,\n",
       "   u'pressure': 1013.77,\n",
       "   u'summary': u'Partly Cloudy',\n",
       "   u'temperature': 63.94,\n",
       "   u'time': 1440759600,\n",
       "   u'visibility': 8.66,\n",
       "   u'windBearing': 282,\n",
       "   u'windSpeed': 4.61},\n",
       "  {u'apparentTemperature': 63.77,\n",
       "   u'cloudCover': 0.53,\n",
       "   u'dewPoint': 56.66,\n",
       "   u'humidity': 0.78,\n",
       "   u'icon': u'partly-cloudy-night',\n",
       "   u'ozone': 278.82,\n",
       "   u'precipIntensity': 0,\n",
       "   u'precipProbability': 0,\n",
       "   u'pressure': 1013.67,\n",
       "   u'summary': u'Partly Cloudy',\n",
       "   u'temperature': 63.77,\n",
       "   u'time': 1440763200,\n",
       "   u'visibility': 8.52,\n",
       "   u'windBearing': 279,\n",
       "   u'windSpeed': 4.6},\n",
       "  {u'apparentTemperature': 63.91,\n",
       "   u'cloudCover': 0.58,\n",
       "   u'dewPoint': 57.3,\n",
       "   u'humidity': 0.79,\n",
       "   u'icon': u'partly-cloudy-night',\n",
       "   u'ozone': 278.63,\n",
       "   u'precipIntensity': 0,\n",
       "   u'precipProbability': 0,\n",
       "   u'pressure': 1013.58,\n",
       "   u'summary': u'Partly Cloudy',\n",
       "   u'temperature': 63.91,\n",
       "   u'time': 1440766800,\n",
       "   u'visibility': 8.33,\n",
       "   u'windBearing': 286,\n",
       "   u'windSpeed': 5.13},\n",
       "  {u'apparentTemperature': 64.59,\n",
       "   u'cloudCover': 0.64,\n",
       "   u'dewPoint': 58,\n",
       "   u'humidity': 0.79,\n",
       "   u'icon': u'partly-cloudy-day',\n",
       "   u'ozone': 278.49,\n",
       "   u'precipIntensity': 0,\n",
       "   u'precipProbability': 0,\n",
       "   u'pressure': 1013.5,\n",
       "   u'summary': u'Mostly Cloudy',\n",
       "   u'temperature': 64.59,\n",
       "   u'time': 1440770400,\n",
       "   u'visibility': 7.83,\n",
       "   u'windBearing': 280,\n",
       "   u'windSpeed': 4.63},\n",
       "  {u'apparentTemperature': 66.59,\n",
       "   u'cloudCover': 0.67,\n",
       "   u'dewPoint': 58.87,\n",
       "   u'humidity': 0.76,\n",
       "   u'icon': u'partly-cloudy-day',\n",
       "   u'ozone': 278.37,\n",
       "   u'precipIntensity': 0,\n",
       "   u'precipProbability': 0,\n",
       "   u'pressure': 1013.44,\n",
       "   u'summary': u'Mostly Cloudy',\n",
       "   u'temperature': 66.59,\n",
       "   u'time': 1440774000,\n",
       "   u'visibility': 8.37,\n",
       "   u'windBearing': 269,\n",
       "   u'windSpeed': 4.28},\n",
       "  {u'apparentTemperature': 69.09,\n",
       "   u'cloudCover': 0.64,\n",
       "   u'dewPoint': 59.58,\n",
       "   u'humidity': 0.72,\n",
       "   u'icon': u'partly-cloudy-day',\n",
       "   u'ozone': 278.26,\n",
       "   u'precipIntensity': 0,\n",
       "   u'precipProbability': 0,\n",
       "   u'pressure': 1013.43,\n",
       "   u'summary': u'Mostly Cloudy',\n",
       "   u'temperature': 69.09,\n",
       "   u'time': 1440777600,\n",
       "   u'visibility': 8.92,\n",
       "   u'windBearing': 261,\n",
       "   u'windSpeed': 4.93},\n",
       "  {u'apparentTemperature': 72.21,\n",
       "   u'cloudCover': 0.57,\n",
       "   u'dewPoint': 60.55,\n",
       "   u'humidity': 0.67,\n",
       "   u'icon': u'partly-cloudy-day',\n",
       "   u'ozone': 278.18,\n",
       "   u'precipIntensity': 0,\n",
       "   u'precipProbability': 0,\n",
       "   u'pressure': 1013.44,\n",
       "   u'summary': u'Partly Cloudy',\n",
       "   u'temperature': 72.21,\n",
       "   u'time': 1440781200,\n",
       "   u'visibility': 9.36,\n",
       "   u'windBearing': 258,\n",
       "   u'windSpeed': 5.91},\n",
       "  {u'apparentTemperature': 74.96,\n",
       "   u'cloudCover': 0.46,\n",
       "   u'dewPoint': 60.69,\n",
       "   u'humidity': 0.61,\n",
       "   u'icon': u'partly-cloudy-day',\n",
       "   u'ozone': 278.18,\n",
       "   u'precipIntensity': 0,\n",
       "   u'precipProbability': 0,\n",
       "   u'pressure': 1013.4,\n",
       "   u'summary': u'Partly Cloudy',\n",
       "   u'temperature': 74.96,\n",
       "   u'time': 1440784800,\n",
       "   u'visibility': 9.65,\n",
       "   u'windBearing': 258,\n",
       "   u'windSpeed': 6.85},\n",
       "  {u'apparentTemperature': 77.27,\n",
       "   u'cloudCover': 0.47,\n",
       "   u'dewPoint': 60.78,\n",
       "   u'humidity': 0.57,\n",
       "   u'icon': u'partly-cloudy-day',\n",
       "   u'ozone': 278.3,\n",
       "   u'precipIntensity': 0,\n",
       "   u'precipProbability': 0,\n",
       "   u'pressure': 1013.3,\n",
       "   u'summary': u'Partly Cloudy',\n",
       "   u'temperature': 77.27,\n",
       "   u'time': 1440788400,\n",
       "   u'visibility': 10,\n",
       "   u'windBearing': 261,\n",
       "   u'windSpeed': 8.26},\n",
       "  {u'apparentTemperature': 78.84,\n",
       "   u'cloudCover': 0.5,\n",
       "   u'dewPoint': 60.79,\n",
       "   u'humidity': 0.54,\n",
       "   u'icon': u'partly-cloudy-day',\n",
       "   u'ozone': 278.49,\n",
       "   u'precipIntensity': 0,\n",
       "   u'precipProbability': 0,\n",
       "   u'pressure': 1013.1,\n",
       "   u'summary': u'Partly Cloudy',\n",
       "   u'temperature': 78.84,\n",
       "   u'time': 1440792000,\n",
       "   u'visibility': 10,\n",
       "   u'windBearing': 266,\n",
       "   u'windSpeed': 9.75},\n",
       "  {u'apparentTemperature': 78.25,\n",
       "   u'cloudCover': 0.61,\n",
       "   u'dewPoint': 60.7,\n",
       "   u'humidity': 0.55,\n",
       "   u'icon': u'partly-cloudy-day',\n",
       "   u'ozone': 278.75,\n",
       "   u'precipIntensity': 0,\n",
       "   u'precipProbability': 0,\n",
       "   u'pressure': 1012.81,\n",
       "   u'summary': u'Mostly Cloudy',\n",
       "   u'temperature': 78.25,\n",
       "   u'time': 1440795600,\n",
       "   u'visibility': 10,\n",
       "   u'windBearing': 270,\n",
       "   u'windSpeed': 10.97},\n",
       "  {u'apparentTemperature': 76.89,\n",
       "   u'cloudCover': 0.67,\n",
       "   u'dewPoint': 60.33,\n",
       "   u'humidity': 0.57,\n",
       "   u'icon': u'partly-cloudy-day',\n",
       "   u'ozone': 279.08,\n",
       "   u'precipIntensity': 0,\n",
       "   u'precipProbability': 0,\n",
       "   u'pressure': 1012.4,\n",
       "   u'summary': u'Mostly Cloudy',\n",
       "   u'temperature': 76.89,\n",
       "   u'time': 1440799200,\n",
       "   u'visibility': 10,\n",
       "   u'windBearing': 274,\n",
       "   u'windSpeed': 11.8},\n",
       "  {u'apparentTemperature': 74.7,\n",
       "   u'cloudCover': 0.71,\n",
       "   u'dewPoint': 59.83,\n",
       "   u'humidity': 0.6,\n",
       "   u'icon': u'partly-cloudy-day',\n",
       "   u'ozone': 279.48,\n",
       "   u'precipIntensity': 0,\n",
       "   u'precipProbability': 0,\n",
       "   u'pressure': 1011.96,\n",
       "   u'summary': u'Mostly Cloudy',\n",
       "   u'temperature': 74.7,\n",
       "   u'time': 1440802800,\n",
       "   u'visibility': 10,\n",
       "   u'windBearing': 277,\n",
       "   u'windSpeed': 12.36},\n",
       "  {u'apparentTemperature': 72.46,\n",
       "   u'cloudCover': 0.72,\n",
       "   u'dewPoint': 59.57,\n",
       "   u'humidity': 0.64,\n",
       "   u'icon': u'partly-cloudy-day',\n",
       "   u'ozone': 279.83,\n",
       "   u'precipIntensity': 0,\n",
       "   u'precipProbability': 0,\n",
       "   u'pressure': 1011.62,\n",
       "   u'summary': u'Mostly Cloudy',\n",
       "   u'temperature': 72.46,\n",
       "   u'time': 1440806400,\n",
       "   u'visibility': 10,\n",
       "   u'windBearing': 279,\n",
       "   u'windSpeed': 12.57},\n",
       "  {u'apparentTemperature': 70.31,\n",
       "   u'cloudCover': 0.71,\n",
       "   u'dewPoint': 59.75,\n",
       "   u'humidity': 0.69,\n",
       "   u'icon': u'partly-cloudy-day',\n",
       "   u'ozone': 280.04,\n",
       "   u'precipIntensity': 0,\n",
       "   u'precipProbability': 0,\n",
       "   u'pressure': 1011.42,\n",
       "   u'summary': u'Mostly Cloudy',\n",
       "   u'temperature': 70.31,\n",
       "   u'time': 1440810000,\n",
       "   u'visibility': 10,\n",
       "   u'windBearing': 279,\n",
       "   u'windSpeed': 11.72},\n",
       "  {u'apparentTemperature': 68.02,\n",
       "   u'cloudCover': 0.71,\n",
       "   u'dewPoint': 60.02,\n",
       "   u'humidity': 0.76,\n",
       "   u'icon': u'partly-cloudy-day',\n",
       "   u'ozone': 280.21,\n",
       "   u'precipIntensity': 0,\n",
       "   u'precipProbability': 0,\n",
       "   u'pressure': 1011.31,\n",
       "   u'summary': u'Mostly Cloudy',\n",
       "   u'temperature': 68.02,\n",
       "   u'time': 1440813600,\n",
       "   u'visibility': 10,\n",
       "   u'windBearing': 276,\n",
       "   u'windSpeed': 10.26},\n",
       "  {u'apparentTemperature': 66.37,\n",
       "   u'cloudCover': 0.7,\n",
       "   u'dewPoint': 60.36,\n",
       "   u'humidity': 0.81,\n",
       "   u'icon': u'partly-cloudy-night',\n",
       "   u'ozone': 280.52,\n",
       "   u'precipIntensity': 0,\n",
       "   u'precipProbability': 0,\n",
       "   u'pressure': 1011.33,\n",
       "   u'summary': u'Mostly Cloudy',\n",
       "   u'temperature': 66.37,\n",
       "   u'time': 1440817200,\n",
       "   u'visibility': 10,\n",
       "   u'windBearing': 272,\n",
       "   u'windSpeed': 9.1},\n",
       "  {u'apparentTemperature': 65.07,\n",
       "   u'cloudCover': 0.74,\n",
       "   u'dewPoint': 60.6,\n",
       "   u'humidity': 0.85,\n",
       "   u'icon': u'partly-cloudy-night',\n",
       "   u'ozone': 280.96,\n",
       "   u'precipIntensity': 0,\n",
       "   u'precipProbability': 0,\n",
       "   u'pressure': 1011.55,\n",
       "   u'summary': u'Mostly Cloudy',\n",
       "   u'temperature': 65.07,\n",
       "   u'time': 1440820800,\n",
       "   u'visibility': 9.24,\n",
       "   u'windBearing': 266,\n",
       "   u'windSpeed': 8.62},\n",
       "  {u'apparentTemperature': 63.89,\n",
       "   u'cloudCover': 0.79,\n",
       "   u'dewPoint': 60.66,\n",
       "   u'humidity': 0.89,\n",
       "   u'icon': u'partly-cloudy-night',\n",
       "   u'ozone': 281.54,\n",
       "   u'precipIntensity': 0,\n",
       "   u'precipProbability': 0,\n",
       "   u'pressure': 1011.88,\n",
       "   u'summary': u'Mostly Cloudy',\n",
       "   u'temperature': 63.89,\n",
       "   u'time': 1440824400,\n",
       "   u'visibility': 8.1,\n",
       "   u'windBearing': 259,\n",
       "   u'windSpeed': 8.49},\n",
       "  {u'apparentTemperature': 62.91,\n",
       "   u'cloudCover': 0.85,\n",
       "   u'dewPoint': 60.58,\n",
       "   u'humidity': 0.92,\n",
       "   u'icon': u'partly-cloudy-night',\n",
       "   u'ozone': 282.46,\n",
       "   u'precipIntensity': 0,\n",
       "   u'precipProbability': 0,\n",
       "   u'pressure': 1012.18,\n",
       "   u'summary': u'Mostly Cloudy',\n",
       "   u'temperature': 62.91,\n",
       "   u'time': 1440828000,\n",
       "   u'visibility': 6.61,\n",
       "   u'windBearing': 252,\n",
       "   u'windSpeed': 8.47},\n",
       "  {u'apparentTemperature': 62.67,\n",
       "   u'cloudCover': 0.89,\n",
       "   u'dewPoint': 60.88,\n",
       "   u'humidity': 0.94,\n",
       "   u'icon': u'partly-cloudy-night',\n",
       "   u'ozone': 283.64,\n",
       "   u'precipIntensity': 0,\n",
       "   u'precipProbability': 0,\n",
       "   u'pressure': 1012.38,\n",
       "   u'summary': u'Mostly Cloudy',\n",
       "   u'temperature': 62.67,\n",
       "   u'time': 1440831600,\n",
       "   u'visibility': 4.42,\n",
       "   u'windBearing': 248,\n",
       "   u'windSpeed': 8.31},\n",
       "  {u'apparentTemperature': 62.72,\n",
       "   u'cloudCover': 0.94,\n",
       "   u'dewPoint': 61.2,\n",
       "   u'humidity': 0.95,\n",
       "   u'icon': u'fog',\n",
       "   u'ozone': 285.16,\n",
       "   u'precipIntensity': 0,\n",
       "   u'precipProbability': 0,\n",
       "   u'pressure': 1012.55,\n",
       "   u'summary': u'Foggy',\n",
       "   u'temperature': 62.72,\n",
       "   u'time': 1440835200,\n",
       "   u'visibility': 1.88,\n",
       "   u'windBearing': 246,\n",
       "   u'windSpeed': 7.89},\n",
       "  {u'apparentTemperature': 62.78,\n",
       "   u'cloudCover': 0.97,\n",
       "   u'dewPoint': 61.41,\n",
       "   u'humidity': 0.95,\n",
       "   u'icon': u'fog',\n",
       "   u'ozone': 287.44,\n",
       "   u'precipIntensity': 0,\n",
       "   u'precipProbability': 0,\n",
       "   u'pressure': 1012.72,\n",
       "   u'summary': u'Foggy',\n",
       "   u'temperature': 62.78,\n",
       "   u'time': 1440838800,\n",
       "   u'visibility': 0.06,\n",
       "   u'windBearing': 242,\n",
       "   u'windSpeed': 7.34},\n",
       "  {u'apparentTemperature': 62.75,\n",
       "   u'cloudCover': 0.98,\n",
       "   u'dewPoint': 61.41,\n",
       "   u'humidity': 0.95,\n",
       "   u'icon': u'fog',\n",
       "   u'ozone': 291.25,\n",
       "   u'precipIntensity': 0,\n",
       "   u'precipProbability': 0,\n",
       "   u'pressure': 1012.85,\n",
       "   u'summary': u'Foggy',\n",
       "   u'temperature': 62.75,\n",
       "   u'time': 1440842400,\n",
       "   u'visibility': 0,\n",
       "   u'windBearing': 233,\n",
       "   u'windSpeed': 6.98},\n",
       "  {u'apparentTemperature': 62.76,\n",
       "   u'cloudCover': 0.98,\n",
       "   u'dewPoint': 61.32,\n",
       "   u'humidity': 0.95,\n",
       "   u'icon': u'fog',\n",
       "   u'ozone': 295.83,\n",
       "   u'precipIntensity': 0.0018,\n",
       "   u'precipProbability': 0.02,\n",
       "   u'precipType': u'rain',\n",
       "   u'pressure': 1012.99,\n",
       "   u'summary': u'Foggy',\n",
       "   u'temperature': 62.76,\n",
       "   u'time': 1440846000,\n",
       "   u'visibility': 0,\n",
       "   u'windBearing': 224,\n",
       "   u'windSpeed': 6.86},\n",
       "  {u'apparentTemperature': 62.81,\n",
       "   u'cloudCover': 0.98,\n",
       "   u'dewPoint': 61.21,\n",
       "   u'humidity': 0.95,\n",
       "   u'icon': u'fog',\n",
       "   u'ozone': 299.33,\n",
       "   u'precipIntensity': 0.0025,\n",
       "   u'precipProbability': 0.03,\n",
       "   u'precipType': u'rain',\n",
       "   u'pressure': 1013.22,\n",
       "   u'summary': u'Foggy',\n",
       "   u'temperature': 62.81,\n",
       "   u'time': 1440849600,\n",
       "   u'visibility': 0,\n",
       "   u'windBearing': 216,\n",
       "   u'windSpeed': 6.91},\n",
       "  {u'apparentTemperature': 62.77,\n",
       "   u'cloudCover': 0.97,\n",
       "   u'dewPoint': 60.99,\n",
       "   u'humidity': 0.94,\n",
       "   u'icon': u'fog',\n",
       "   u'ozone': 300.85,\n",
       "   u'precipIntensity': 0.0024,\n",
       "   u'precipProbability': 0.02,\n",
       "   u'precipType': u'rain',\n",
       "   u'pressure': 1013.64,\n",
       "   u'summary': u'Foggy',\n",
       "   u'temperature': 62.77,\n",
       "   u'time': 1440853200,\n",
       "   u'visibility': 0,\n",
       "   u'windBearing': 213,\n",
       "   u'windSpeed': 6.93},\n",
       "  {u'apparentTemperature': 62.75,\n",
       "   u'cloudCover': 0.95,\n",
       "   u'dewPoint': 60.74,\n",
       "   u'humidity': 0.93,\n",
       "   u'icon': u'fog',\n",
       "   u'ozone': 301.29,\n",
       "   u'precipIntensity': 0.002,\n",
       "   u'precipProbability': 0.01,\n",
       "   u'precipType': u'rain',\n",
       "   u'pressure': 1014.22,\n",
       "   u'summary': u'Foggy',\n",
       "   u'temperature': 62.75,\n",
       "   u'time': 1440856800,\n",
       "   u'visibility': 0,\n",
       "   u'windBearing': 214,\n",
       "   u'windSpeed': 6.71},\n",
       "  {u'apparentTemperature': 62.96,\n",
       "   u'cloudCover': 0.94,\n",
       "   u'dewPoint': 60.62,\n",
       "   u'humidity': 0.92,\n",
       "   u'icon': u'fog',\n",
       "   u'ozone': 301.61,\n",
       "   u'precipIntensity': 0,\n",
       "   u'precipProbability': 0,\n",
       "   u'pressure': 1014.75,\n",
       "   u'summary': u'Foggy',\n",
       "   u'temperature': 62.96,\n",
       "   u'time': 1440860400,\n",
       "   u'visibility': 0.04,\n",
       "   u'windBearing': 216,\n",
       "   u'windSpeed': 6.58},\n",
       "  {u'apparentTemperature': 63.52,\n",
       "   u'cloudCover': 0.96,\n",
       "   u'dewPoint': 60.73,\n",
       "   u'humidity': 0.91,\n",
       "   u'icon': u'fog',\n",
       "   u'ozone': 301.95,\n",
       "   u'precipIntensity': 0,\n",
       "   u'precipProbability': 0,\n",
       "   u'pressure': 1015.23,\n",
       "   u'summary': u'Foggy',\n",
       "   u'temperature': 63.52,\n",
       "   u'time': 1440864000,\n",
       "   u'visibility': 1.95,\n",
       "   u'windBearing': 221,\n",
       "   u'windSpeed': 6.34},\n",
       "  {u'apparentTemperature': 64.26,\n",
       "   u'cloudCover': 0.98,\n",
       "   u'dewPoint': 60.93,\n",
       "   u'humidity': 0.89,\n",
       "   u'icon': u'cloudy',\n",
       "   u'ozone': 302.17,\n",
       "   u'precipIntensity': 0,\n",
       "   u'precipProbability': 0,\n",
       "   u'pressure': 1015.65,\n",
       "   u'summary': u'Overcast',\n",
       "   u'temperature': 64.26,\n",
       "   u'time': 1440867600,\n",
       "   u'visibility': 4.59,\n",
       "   u'windBearing': 229,\n",
       "   u'windSpeed': 6.08},\n",
       "  {u'apparentTemperature': 65.12,\n",
       "   u'cloudCover': 0.95,\n",
       "   u'dewPoint': 61.01,\n",
       "   u'humidity': 0.87,\n",
       "   u'icon': u'cloudy',\n",
       "   u'ozone': 302.74,\n",
       "   u'precipIntensity': 0,\n",
       "   u'precipProbability': 0,\n",
       "   u'pressure': 1015.91,\n",
       "   u'summary': u'Overcast',\n",
       "   u'temperature': 65.12,\n",
       "   u'time': 1440871200,\n",
       "   u'visibility': 6.68,\n",
       "   u'windBearing': 238,\n",
       "   u'windSpeed': 6.35},\n",
       "  {u'apparentTemperature': 66.16,\n",
       "   u'cloudCover': 0.82,\n",
       "   u'dewPoint': 60.86,\n",
       "   u'humidity': 0.83,\n",
       "   u'icon': u'partly-cloudy-day',\n",
       "   u'ozone': 304.12,\n",
       "   u'precipIntensity': 0,\n",
       "   u'precipProbability': 0,\n",
       "   u'pressure': 1015.93,\n",
       "   u'summary': u'Mostly Cloudy',\n",
       "   u'temperature': 66.16,\n",
       "   u'time': 1440874800,\n",
       "   u'visibility': 7.59,\n",
       "   u'windBearing': 247,\n",
       "   u'windSpeed': 7.55},\n",
       "  {u'apparentTemperature': 67.43,\n",
       "   u'cloudCover': 0.62,\n",
       "   u'dewPoint': 60.58,\n",
       "   u'humidity': 0.79,\n",
       "   u'icon': u'partly-cloudy-day',\n",
       "   u'ozone': 305.85,\n",
       "   u'precipIntensity': 0,\n",
       "   u'precipProbability': 0,\n",
       "   u'pressure': 1015.77,\n",
       "   u'summary': u'Mostly Cloudy',\n",
       "   u'temperature': 67.43,\n",
       "   u'time': 1440878400,\n",
       "   u'visibility': 7.95,\n",
       "   u'windBearing': 252,\n",
       "   u'windSpeed': 9.12},\n",
       "  {u'apparentTemperature': 68.54,\n",
       "   u'cloudCover': 0.46,\n",
       "   u'dewPoint': 60.22,\n",
       "   u'humidity': 0.75,\n",
       "   u'icon': u'partly-cloudy-day',\n",
       "   u'ozone': 307.11,\n",
       "   u'precipIntensity': 0,\n",
       "   u'precipProbability': 0,\n",
       "   u'pressure': 1015.57,\n",
       "   u'summary': u'Partly Cloudy',\n",
       "   u'temperature': 68.54,\n",
       "   u'time': 1440882000,\n",
       "   u'visibility': 8.32,\n",
       "   u'windBearing': 257,\n",
       "   u'windSpeed': 10.47}],\n",
       " u'icon': u'partly-cloudy-night',\n",
       " u'summary': u'Partly cloudy starting this evening.'}"
      ]
     },
     "execution_count": 91,
     "metadata": {},
     "output_type": "execute_result"
    }
   ],
   "source": [
    "r.json()[\"hourly\"]"
   ]
  },
  {
   "cell_type": "code",
   "execution_count": 92,
   "metadata": {
    "collapsed": false
   },
   "outputs": [
    {
     "data": {
      "text/plain": [
       "{u'apparentTemperature': 77.19,\n",
       " u'cloudCover': 0.28,\n",
       " u'dewPoint': 52.85,\n",
       " u'humidity': 0.43,\n",
       " u'icon': u'partly-cloudy-day',\n",
       " u'nearestStormBearing': 132,\n",
       " u'nearestStormDistance': 105,\n",
       " u'ozone': 291.92,\n",
       " u'precipIntensity': 0,\n",
       " u'precipProbability': 0,\n",
       " u'pressure': 1015.89,\n",
       " u'summary': u'Partly Cloudy',\n",
       " u'temperature': 77.19,\n",
       " u'time': 1440711572,\n",
       " u'visibility': 9.82,\n",
       " u'windBearing': 277,\n",
       " u'windSpeed': 11.47}"
      ]
     },
     "execution_count": 92,
     "metadata": {},
     "output_type": "execute_result"
    }
   ],
   "source": [
    "r.json()[\"currently\"]"
   ]
  },
  {
   "cell_type": "code",
   "execution_count": 93,
   "metadata": {
    "collapsed": false
   },
   "outputs": [
    {
     "data": {
      "text/plain": [
       "[u'icon', u'data', u'summary']"
      ]
     },
     "execution_count": 93,
     "metadata": {},
     "output_type": "execute_result"
    }
   ],
   "source": [
    "#Daily is probably what we want:\n",
    "r.json()[\"daily\"].keys()"
   ]
  },
  {
   "cell_type": "code",
   "execution_count": 94,
   "metadata": {
    "collapsed": false
   },
   "outputs": [
    {
     "data": {
      "text/plain": [
       "[{u'apparentTemperatureMax': 77.72,\n",
       "  u'apparentTemperatureMaxTime': 1440716400,\n",
       "  u'apparentTemperatureMin': 61.55,\n",
       "  u'apparentTemperatureMinTime': 1440684000,\n",
       "  u'cloudCover': 0.23,\n",
       "  u'dewPoint': 55.33,\n",
       "  u'humidity': 0.66,\n",
       "  u'icon': u'partly-cloudy-night',\n",
       "  u'moonPhase': 0.42,\n",
       "  u'ozone': 291.4,\n",
       "  u'precipIntensity': 0,\n",
       "  u'precipIntensityMax': 0,\n",
       "  u'precipProbability': 0,\n",
       "  u'pressure': 1015.97,\n",
       "  u'summary': u'Partly cloudy starting in the evening.',\n",
       "  u'sunriseTime': 1440682608,\n",
       "  u'sunsetTime': 1440730123,\n",
       "  u'temperatureMax': 77.72,\n",
       "  u'temperatureMaxTime': 1440716400,\n",
       "  u'temperatureMin': 61.55,\n",
       "  u'temperatureMinTime': 1440684000,\n",
       "  u'time': 1440658800,\n",
       "  u'visibility': 9.24,\n",
       "  u'windBearing': 280,\n",
       "  u'windSpeed': 7.03},\n",
       " {u'apparentTemperatureMax': 78.84,\n",
       "  u'apparentTemperatureMaxTime': 1440792000,\n",
       "  u'apparentTemperatureMin': 62.91,\n",
       "  u'apparentTemperatureMinTime': 1440828000,\n",
       "  u'cloudCover': 0.58,\n",
       "  u'dewPoint': 59,\n",
       "  u'humidity': 0.72,\n",
       "  u'icon': u'fog',\n",
       "  u'moonPhase': 0.46,\n",
       "  u'ozone': 279.55,\n",
       "  u'precipIntensity': 0,\n",
       "  u'precipIntensityMax': 0,\n",
       "  u'precipProbability': 0,\n",
       "  u'pressure': 1012.91,\n",
       "  u'summary': u'Foggy overnight.',\n",
       "  u'sunriseTime': 1440769059,\n",
       "  u'sunsetTime': 1440816437,\n",
       "  u'temperatureMax': 78.84,\n",
       "  u'temperatureMaxTime': 1440792000,\n",
       "  u'temperatureMin': 62.91,\n",
       "  u'temperatureMinTime': 1440828000,\n",
       "  u'time': 1440745200,\n",
       "  u'visibility': 9.18,\n",
       "  u'windBearing': 274,\n",
       "  u'windSpeed': 7.77},\n",
       " {u'apparentTemperatureMax': 70.28,\n",
       "  u'apparentTemperatureMaxTime': 1440892800,\n",
       "  u'apparentTemperatureMin': 61.2,\n",
       "  u'apparentTemperatureMinTime': 1440914400,\n",
       "  u'cloudCover': 0.65,\n",
       "  u'dewPoint': 59.9,\n",
       "  u'humidity': 0.85,\n",
       "  u'icon': u'fog',\n",
       "  u'moonPhase': 0.49,\n",
       "  u'ozone': 301.88,\n",
       "  u'precipIntensity': 0.0006,\n",
       "  u'precipIntensityMax': 0.0025,\n",
       "  u'precipIntensityMaxTime': 1440849600,\n",
       "  u'precipProbability': 0.03,\n",
       "  u'precipType': u'rain',\n",
       "  u'pressure': 1014.68,\n",
       "  u'summary': u'Foggy in the morning.',\n",
       "  u'sunriseTime': 1440855511,\n",
       "  u'sunsetTime': 1440902750,\n",
       "  u'temperatureMax': 70.28,\n",
       "  u'temperatureMaxTime': 1440892800,\n",
       "  u'temperatureMin': 61.2,\n",
       "  u'temperatureMinTime': 1440914400,\n",
       "  u'time': 1440831600,\n",
       "  u'visibility': 5.45,\n",
       "  u'windBearing': 254,\n",
       "  u'windSpeed': 8},\n",
       " {u'apparentTemperatureMax': 71.88,\n",
       "  u'apparentTemperatureMaxTime': 1440972000,\n",
       "  u'apparentTemperatureMin': 59.74,\n",
       "  u'apparentTemperatureMinTime': 1440925200,\n",
       "  u'cloudCover': 0.27,\n",
       "  u'dewPoint': 56.07,\n",
       "  u'humidity': 0.76,\n",
       "  u'icon': u'partly-cloudy-day',\n",
       "  u'moonPhase': 0.54,\n",
       "  u'ozone': 325.14,\n",
       "  u'precipIntensity': 0,\n",
       "  u'precipIntensityMax': 0,\n",
       "  u'precipProbability': 0,\n",
       "  u'pressure': 1016.57,\n",
       "  u'summary': u'Partly cloudy until afternoon.',\n",
       "  u'sunriseTime': 1440941962,\n",
       "  u'sunsetTime': 1440989062,\n",
       "  u'temperatureMax': 71.88,\n",
       "  u'temperatureMaxTime': 1440972000,\n",
       "  u'temperatureMin': 59.74,\n",
       "  u'temperatureMinTime': 1440925200,\n",
       "  u'time': 1440918000,\n",
       "  u'visibility': 10,\n",
       "  u'windBearing': 284,\n",
       "  u'windSpeed': 9.23},\n",
       " {u'apparentTemperatureMax': 65.53,\n",
       "  u'apparentTemperatureMaxTime': 1441054800,\n",
       "  u'apparentTemperatureMin': 58.71,\n",
       "  u'apparentTemperatureMinTime': 1441087200,\n",
       "  u'cloudCover': 0.31,\n",
       "  u'dewPoint': 54.16,\n",
       "  u'humidity': 0.78,\n",
       "  u'icon': u'partly-cloudy-day',\n",
       "  u'moonPhase': 0.57,\n",
       "  u'ozone': 318.92,\n",
       "  u'precipIntensity': 0,\n",
       "  u'precipIntensityMax': 0,\n",
       "  u'precipProbability': 0,\n",
       "  u'pressure': 1013.87,\n",
       "  u'summary': u'Mostly cloudy until afternoon.',\n",
       "  u'sunriseTime': 1441028412,\n",
       "  u'sunsetTime': 1441075374,\n",
       "  u'temperatureMax': 65.53,\n",
       "  u'temperatureMaxTime': 1441054800,\n",
       "  u'temperatureMin': 58.71,\n",
       "  u'temperatureMinTime': 1441087200,\n",
       "  u'time': 1441004400,\n",
       "  u'windBearing': 248,\n",
       "  u'windSpeed': 6.42},\n",
       " {u'apparentTemperatureMax': 65.54,\n",
       "  u'apparentTemperatureMaxTime': 1441137600,\n",
       "  u'apparentTemperatureMin': 58.51,\n",
       "  u'apparentTemperatureMinTime': 1441090800,\n",
       "  u'cloudCover': 0.01,\n",
       "  u'dewPoint': 53.64,\n",
       "  u'humidity': 0.77,\n",
       "  u'icon': u'clear-day',\n",
       "  u'moonPhase': 0.61,\n",
       "  u'ozone': 315.14,\n",
       "  u'precipIntensity': 0,\n",
       "  u'precipIntensityMax': 0,\n",
       "  u'precipProbability': 0,\n",
       "  u'pressure': 1013.33,\n",
       "  u'summary': u'Clear throughout the day.',\n",
       "  u'sunriseTime': 1441114863,\n",
       "  u'sunsetTime': 1441161686,\n",
       "  u'temperatureMax': 65.54,\n",
       "  u'temperatureMaxTime': 1441137600,\n",
       "  u'temperatureMin': 58.51,\n",
       "  u'temperatureMinTime': 1441090800,\n",
       "  u'time': 1441090800,\n",
       "  u'windBearing': 255,\n",
       "  u'windSpeed': 8.62},\n",
       " {u'apparentTemperatureMax': 63.53,\n",
       "  u'apparentTemperatureMaxTime': 1441234800,\n",
       "  u'apparentTemperatureMin': 58.45,\n",
       "  u'apparentTemperatureMinTime': 1441256400,\n",
       "  u'cloudCover': 0.5,\n",
       "  u'dewPoint': 55.01,\n",
       "  u'humidity': 0.82,\n",
       "  u'icon': u'partly-cloudy-day',\n",
       "  u'moonPhase': 0.65,\n",
       "  u'ozone': 307.08,\n",
       "  u'precipIntensity': 0.0006,\n",
       "  u'precipIntensityMax': 0.0012,\n",
       "  u'precipIntensityMaxTime': 1441209600,\n",
       "  u'precipProbability': 0.01,\n",
       "  u'precipType': u'rain',\n",
       "  u'pressure': 1014.14,\n",
       "  u'summary': u'Mostly cloudy until evening.',\n",
       "  u'sunriseTime': 1441201314,\n",
       "  u'sunsetTime': 1441247997,\n",
       "  u'temperatureMax': 63.53,\n",
       "  u'temperatureMaxTime': 1441234800,\n",
       "  u'temperatureMin': 58.45,\n",
       "  u'temperatureMinTime': 1441256400,\n",
       "  u'time': 1441177200,\n",
       "  u'windBearing': 257,\n",
       "  u'windSpeed': 9.01},\n",
       " {u'apparentTemperatureMax': 62.2,\n",
       "  u'apparentTemperatureMaxTime': 1441321200,\n",
       "  u'apparentTemperatureMin': 58.38,\n",
       "  u'apparentTemperatureMinTime': 1441342800,\n",
       "  u'cloudCover': 0.37,\n",
       "  u'dewPoint': 53.55,\n",
       "  u'humidity': 0.79,\n",
       "  u'icon': u'partly-cloudy-day',\n",
       "  u'moonPhase': 0.69,\n",
       "  u'ozone': 311.84,\n",
       "  u'precipIntensity': 0.0003,\n",
       "  u'precipIntensityMax': 0.0012,\n",
       "  u'precipIntensityMaxTime': 1441317600,\n",
       "  u'precipProbability': 0.01,\n",
       "  u'precipType': u'rain',\n",
       "  u'pressure': 1014.76,\n",
       "  u'summary': u'Partly cloudy throughout the day.',\n",
       "  u'sunriseTime': 1441287765,\n",
       "  u'sunsetTime': 1441334307,\n",
       "  u'temperatureMax': 62.2,\n",
       "  u'temperatureMaxTime': 1441321200,\n",
       "  u'temperatureMin': 58.38,\n",
       "  u'temperatureMinTime': 1441342800,\n",
       "  u'time': 1441263600,\n",
       "  u'windBearing': 249,\n",
       "  u'windSpeed': 6.99}]"
      ]
     },
     "execution_count": 94,
     "metadata": {},
     "output_type": "execute_result"
    }
   ],
   "source": [
    "#And then data:\n",
    "r.json()[\"daily\"]['data']"
   ]
  },
  {
   "cell_type": "code",
   "execution_count": 95,
   "metadata": {
    "collapsed": false
   },
   "outputs": [
    {
     "data": {
      "text/plain": [
       "list"
      ]
     },
     "execution_count": 95,
     "metadata": {},
     "output_type": "execute_result"
    }
   ],
   "source": [
    "#I think it's a list:\n",
    "type(r.json()['daily']['data'])"
   ]
  },
  {
   "cell_type": "code",
   "execution_count": 96,
   "metadata": {
    "collapsed": false
   },
   "outputs": [
    {
     "data": {
      "text/plain": [
       "8"
      ]
     },
     "execution_count": 96,
     "metadata": {},
     "output_type": "execute_result"
    }
   ],
   "source": [
    "#And has length...\n",
    "len(r.json()['daily']['data'])"
   ]
  },
  {
   "cell_type": "code",
   "execution_count": 97,
   "metadata": {
    "collapsed": false
   },
   "outputs": [
    {
     "data": {
      "text/plain": [
       "dict"
      ]
     },
     "execution_count": 97,
     "metadata": {},
     "output_type": "execute_result"
    }
   ],
   "source": [
    "#Not sure why there are 8 elements in this daily list.\n",
    "#Each internal element of the list is a dictionary.\n",
    "type(r.json()[\"daily\"][\"data\"][0])"
   ]
  },
  {
   "cell_type": "code",
   "execution_count": 98,
   "metadata": {
    "collapsed": false
   },
   "outputs": [
    {
     "data": {
      "text/plain": [
       "[u'apparentTemperatureMinTime',\n",
       " u'cloudCover',\n",
       " u'temperatureMin',\n",
       " u'summary',\n",
       " u'dewPoint',\n",
       " u'apparentTemperatureMax',\n",
       " u'temperatureMax',\n",
       " u'temperatureMaxTime',\n",
       " u'windBearing',\n",
       " u'moonPhase',\n",
       " u'visibility',\n",
       " u'sunsetTime',\n",
       " u'pressure',\n",
       " u'precipProbability',\n",
       " u'apparentTemperatureMin',\n",
       " u'precipIntensityMax',\n",
       " u'icon',\n",
       " u'apparentTemperatureMaxTime',\n",
       " u'humidity',\n",
       " u'ozone',\n",
       " u'windSpeed',\n",
       " u'time',\n",
       " u'precipIntensity',\n",
       " u'sunriseTime',\n",
       " u'temperatureMinTime']"
      ]
     },
     "execution_count": 98,
     "metadata": {},
     "output_type": "execute_result"
    }
   ],
   "source": [
    "#So to get the maximum daily temperature:\n",
    "dayDict = r.json()[\"daily\"][\"data\"][0]\n",
    "dayDict.keys()"
   ]
  },
  {
   "cell_type": "code",
   "execution_count": 99,
   "metadata": {
    "collapsed": false
   },
   "outputs": [
    {
     "data": {
      "text/plain": [
       "77.72"
      ]
     },
     "execution_count": 99,
     "metadata": {},
     "output_type": "execute_result"
    }
   ],
   "source": [
    "#Here is the max temp for that element.  Still don't know what each element represents.\n",
    "\n",
    "dayDict['temperatureMax']"
   ]
  },
  {
   "cell_type": "markdown",
   "metadata": {},
   "source": [
    "Answer: With an API call that does not include a time component to the request, DarkSkies will return a forecast for that location for the next week.\n",
    "So we are probably getting today and the next 7 days (so 8 elements in total)"
   ]
  },
  {
   "cell_type": "code",
   "execution_count": 100,
   "metadata": {
    "collapsed": false
   },
   "outputs": [],
   "source": [
    "#Make an API call with time included:\n",
    "date_obj = datetime.datetime.now()"
   ]
  },
  {
   "cell_type": "code",
   "execution_count": 101,
   "metadata": {
    "collapsed": false
   },
   "outputs": [
    {
     "data": {
      "text/plain": [
       "28"
      ]
     },
     "execution_count": 101,
     "metadata": {},
     "output_type": "execute_result"
    }
   ],
   "source": [
    "#Unpacking object:\n",
    "date_obj.second"
   ]
  },
  {
   "cell_type": "code",
   "execution_count": 102,
   "metadata": {
    "collapsed": false
   },
   "outputs": [
    {
     "data": {
      "text/plain": [
       "'2015-08-27T12:00:00'"
      ]
     },
     "execution_count": 102,
     "metadata": {},
     "output_type": "execute_result"
    }
   ],
   "source": [
    "#This uses the python string format time functions to take a datetime object and format it into string:\n",
    "date_obj.strftime('%Y-%m-%dT12:00:00')"
   ]
  },
  {
   "cell_type": "code",
   "execution_count": 103,
   "metadata": {
    "collapsed": false
   },
   "outputs": [
    {
     "name": "stdout",
     "output_type": "stream",
     "text": [
      "https://api.forecast.io/forecast/ddff5421ea9208aa56645e77155f6aae/38.904103,-77.017229,2015-08-27T12:00:00\n"
     ]
    }
   ],
   "source": [
    "#Setup and perform the request:\n",
    "base_url = 'https://api.forecast.io/forecast/ddff5421ea9208aa56645e77155f6aae/'\n",
    "loc = '38.904103,-77.017229' #DC\n",
    "time= date_obj.strftime('%Y-%m-%dT12:00:00')\n",
    "url = base_url + loc + \",\" + time\n",
    "print url"
   ]
  },
  {
   "cell_type": "code",
   "execution_count": 104,
   "metadata": {
    "collapsed": false
   },
   "outputs": [],
   "source": [
    "#Get the data from the API:\n",
    "r2 = requests.get(url)"
   ]
  },
  {
   "cell_type": "code",
   "execution_count": 105,
   "metadata": {
    "collapsed": false
   },
   "outputs": [
    {
     "data": {
      "text/plain": [
       "<Response [200]>"
      ]
     },
     "execution_count": 105,
     "metadata": {},
     "output_type": "execute_result"
    }
   ],
   "source": [
    "#Response 200 = Request successfully completed\n",
    "r2"
   ]
  },
  {
   "cell_type": "code",
   "execution_count": 106,
   "metadata": {
    "collapsed": false
   },
   "outputs": [
    {
     "data": {
      "text/plain": [
       "[u'hourly',\n",
       " u'currently',\n",
       " u'longitude',\n",
       " u'flags',\n",
       " u'daily',\n",
       " u'offset',\n",
       " u'latitude',\n",
       " u'timezone',\n",
       " u'minutely']"
      ]
     },
     "execution_count": 106,
     "metadata": {},
     "output_type": "execute_result"
    }
   ],
   "source": [
    "r2.json().keys()"
   ]
  },
  {
   "cell_type": "code",
   "execution_count": 107,
   "metadata": {
    "collapsed": true
   },
   "outputs": [],
   "source": [
    "dayDict = r.json()[\"daily\"][\"data\"][0]"
   ]
  },
  {
   "cell_type": "code",
   "execution_count": 108,
   "metadata": {
    "collapsed": false
   },
   "outputs": [
    {
     "data": {
      "text/plain": [
       "{u'apparentTemperatureMax': 77.72,\n",
       " u'apparentTemperatureMaxTime': 1440716400,\n",
       " u'apparentTemperatureMin': 61.55,\n",
       " u'apparentTemperatureMinTime': 1440684000,\n",
       " u'cloudCover': 0.23,\n",
       " u'dewPoint': 55.33,\n",
       " u'humidity': 0.66,\n",
       " u'icon': u'partly-cloudy-night',\n",
       " u'moonPhase': 0.42,\n",
       " u'ozone': 291.4,\n",
       " u'precipIntensity': 0,\n",
       " u'precipIntensityMax': 0,\n",
       " u'precipProbability': 0,\n",
       " u'pressure': 1015.97,\n",
       " u'summary': u'Partly cloudy starting in the evening.',\n",
       " u'sunriseTime': 1440682608,\n",
       " u'sunsetTime': 1440730123,\n",
       " u'temperatureMax': 77.72,\n",
       " u'temperatureMaxTime': 1440716400,\n",
       " u'temperatureMin': 61.55,\n",
       " u'temperatureMinTime': 1440684000,\n",
       " u'time': 1440658800,\n",
       " u'visibility': 9.24,\n",
       " u'windBearing': 280,\n",
       " u'windSpeed': 7.03}"
      ]
     },
     "execution_count": 108,
     "metadata": {},
     "output_type": "execute_result"
    }
   ],
   "source": [
    "dayDict"
   ]
  },
  {
   "cell_type": "code",
   "execution_count": 109,
   "metadata": {
    "collapsed": false
   },
   "outputs": [
    {
     "data": {
      "text/plain": [
       "77.72"
      ]
     },
     "execution_count": 109,
     "metadata": {},
     "output_type": "execute_result"
    }
   ],
   "source": [
    "#Pull the max temperature:\n",
    "dayDict['temperatureMax']"
   ]
  },
  {
   "cell_type": "code",
   "execution_count": 110,
   "metadata": {
    "collapsed": false
   },
   "outputs": [
    {
     "data": {
      "text/plain": [
       "[{u'apparentTemperatureMax': 80.51,\n",
       "  u'apparentTemperatureMaxTime': 1440702000,\n",
       "  u'apparentTemperatureMin': 62.65,\n",
       "  u'apparentTemperatureMinTime': 1440666000,\n",
       "  u'cloudCover': 0.24,\n",
       "  u'dewPoint': 57.32,\n",
       "  u'humidity': 0.63,\n",
       "  u'icon': u'partly-cloudy-day',\n",
       "  u'moonPhase': 0.42,\n",
       "  u'ozone': 309.08,\n",
       "  u'precipIntensity': 0,\n",
       "  u'precipIntensityMax': 0,\n",
       "  u'precipProbability': 0,\n",
       "  u'pressure': 1018.58,\n",
       "  u'summary': u'Partly cloudy starting in the afternoon, continuing until evening.',\n",
       "  u'sunriseTime': 1440671625,\n",
       "  u'sunsetTime': 1440719316,\n",
       "  u'temperatureMax': 80.25,\n",
       "  u'temperatureMaxTime': 1440702000,\n",
       "  u'temperatureMin': 62.65,\n",
       "  u'temperatureMinTime': 1440666000,\n",
       "  u'time': 1440648000,\n",
       "  u'visibility': 9.82,\n",
       "  u'windBearing': 335,\n",
       "  u'windSpeed': 4.07}]"
      ]
     },
     "execution_count": 110,
     "metadata": {},
     "output_type": "execute_result"
    }
   ],
   "source": [
    "r2.json()['daily']['data']"
   ]
  },
  {
   "cell_type": "code",
   "execution_count": 111,
   "metadata": {
    "collapsed": false
   },
   "outputs": [
    {
     "data": {
      "text/plain": [
       "list"
      ]
     },
     "execution_count": 111,
     "metadata": {},
     "output_type": "execute_result"
    }
   ],
   "source": [
    "type(r2.json()['daily']['data'])"
   ]
  },
  {
   "cell_type": "code",
   "execution_count": 112,
   "metadata": {
    "collapsed": false
   },
   "outputs": [
    {
     "data": {
      "text/plain": [
       "dict"
      ]
     },
     "execution_count": 112,
     "metadata": {},
     "output_type": "execute_result"
    }
   ],
   "source": [
    "#Have to access 3 layers to get to the raw max temperature data:\n",
    "type(r2.json()['daily']['data'][0])"
   ]
  },
  {
   "cell_type": "code",
   "execution_count": 113,
   "metadata": {
    "collapsed": false
   },
   "outputs": [
    {
     "data": {
      "text/plain": [
       "[u'apparentTemperatureMinTime',\n",
       " u'cloudCover',\n",
       " u'temperatureMin',\n",
       " u'summary',\n",
       " u'dewPoint',\n",
       " u'apparentTemperatureMax',\n",
       " u'temperatureMax',\n",
       " u'temperatureMaxTime',\n",
       " u'windBearing',\n",
       " u'moonPhase',\n",
       " u'visibility',\n",
       " u'sunsetTime',\n",
       " u'pressure',\n",
       " u'precipProbability',\n",
       " u'apparentTemperatureMin',\n",
       " u'precipIntensityMax',\n",
       " u'icon',\n",
       " u'apparentTemperatureMaxTime',\n",
       " u'humidity',\n",
       " u'ozone',\n",
       " u'windSpeed',\n",
       " u'time',\n",
       " u'precipIntensity',\n",
       " u'sunriseTime',\n",
       " u'temperatureMinTime']"
      ]
     },
     "execution_count": 113,
     "metadata": {},
     "output_type": "execute_result"
    }
   ],
   "source": [
    "dayDict2 = r2.json()['daily']['data'][0] #This gives us a dict\n",
    "dayDict2.keys()"
   ]
  },
  {
   "cell_type": "code",
   "execution_count": 114,
   "metadata": {
    "collapsed": false
   },
   "outputs": [
    {
     "data": {
      "text/plain": [
       "80.25"
      ]
     },
     "execution_count": 114,
     "metadata": {},
     "output_type": "execute_result"
    }
   ],
   "source": [
    "#Which we can then access directly:\n",
    "dayDict2[\"temperatureMax\"]"
   ]
  },
  {
   "cell_type": "code",
   "execution_count": 115,
   "metadata": {
    "collapsed": false
   },
   "outputs": [
    {
     "data": {
      "text/plain": [
       "datetime.datetime(2015, 8, 27, 17, 39, 28, 296406)"
      ]
     },
     "execution_count": 115,
     "metadata": {},
     "output_type": "execute_result"
    }
   ],
   "source": [
    "date_obj"
   ]
  },
  {
   "cell_type": "code",
   "execution_count": 116,
   "metadata": {
    "collapsed": false
   },
   "outputs": [
    {
     "data": {
      "text/plain": [
       "datetime.datetime(2015, 7, 28, 17, 39, 28, 296406)"
      ]
     },
     "execution_count": 116,
     "metadata": {},
     "output_type": "execute_result"
    }
   ],
   "source": [
    "date_obj - datetime.timedelta(days=30)"
   ]
  },
  {
   "cell_type": "code",
   "execution_count": 117,
   "metadata": {
    "collapsed": false
   },
   "outputs": [],
   "source": [
    "#Setup the database:\n",
    "import sqlite3 as lite\n",
    "\n",
    "end_time = datetime.datetime.now()\n",
    "cities = { \"Atlanta\": '33.762909,-84.422675',\n",
    "            \"Austin\": '30.303936,-97.754355',\n",
    "            \"Boston\": '42.331960,-71.020173',\n",
    "            \"Chicago\": '41.837551,-87.681844',\n",
    "            \"Washington\": '38.904103,-77.017229'\n",
    "        }\n",
    "\n",
    "#Establish database connection:\n",
    "con = lite.connect(\"weather.db\")\n",
    "cur = con.cursor() #Get the cursor object from the connection, used to interact with the database\n",
    "\n",
    "with con: #Context manager, makes query and then commits (saves) to the database\n",
    "    cur.execute('CREATE TABLE daily_temp (day_of_reading INT, Atlanta REAL, Austin REAL, Boston REAL, Chicago REAL, Washington REAL);')"
   ]
  },
  {
   "cell_type": "code",
   "execution_count": 118,
   "metadata": {
    "collapsed": false
   },
   "outputs": [],
   "source": [
    "#SQL dbs require rows be inserted before they can be updated.  Create the rows without values:\n",
    "start_time = end_time - datetime.timedelta(days=30)\n",
    "\n",
    "with con:\n",
    "    while start_time < end_time:\n",
    "        #This is a parameterized SQL query: Inserts values into the ? variable,\n",
    "        #follow the query with a tuple of what you want to put in.\n",
    "        cur.execute(\"INSERT INTO daily_temp(day_of_reading) VALUES (?)\", (int(start_time.strftime('%s')),) )\n",
    "        start_time += datetime.timedelta(days=1)"
   ]
  },
  {
   "cell_type": "code",
   "execution_count": 119,
   "metadata": {
    "collapsed": false
   },
   "outputs": [
    {
     "data": {
      "text/plain": [
       "1440711568"
      ]
     },
     "execution_count": 119,
     "metadata": {},
     "output_type": "execute_result"
    }
   ],
   "source": [
    "#In this case we are putting in a row with unix time:\n",
    "int(start_time.strftime('%s'))"
   ]
  },
  {
   "cell_type": "code",
   "execution_count": 120,
   "metadata": {
    "collapsed": false
   },
   "outputs": [
    {
     "data": {
      "text/plain": [
       "{'Atlanta': '33.762909,-84.422675',\n",
       " 'Austin': '30.303936,-97.754355',\n",
       " 'Boston': '42.331960,-71.020173',\n",
       " 'Chicago': '41.837551,-87.681844',\n",
       " 'Washington': '38.904103,-77.017229'}"
      ]
     },
     "execution_count": 120,
     "metadata": {},
     "output_type": "execute_result"
    }
   ],
   "source": [
    "cities"
   ]
  },
  {
   "cell_type": "code",
   "execution_count": 121,
   "metadata": {
    "collapsed": false
   },
   "outputs": [
    {
     "name": "stdout",
     "output_type": "stream",
     "text": [
      "Boston 42.331960,-71.020173\n",
      "Atlanta 33.762909,-84.422675\n",
      "Austin 30.303936,-97.754355\n",
      "Washington 38.904103,-77.017229\n",
      "Chicago 41.837551,-87.681844\n"
     ]
    }
   ],
   "source": [
    "#Not sure what this really gives...\n",
    "for k,v in cities.iteritems():\n",
    "    print k,v"
   ]
  },
  {
   "cell_type": "code",
   "execution_count": 122,
   "metadata": {
    "collapsed": false
   },
   "outputs": [
    {
     "name": "stdout",
     "output_type": "stream",
     "text": [
      "Boston 42.331960,-71.020173\n",
      "Atlanta 33.762909,-84.422675\n",
      "Austin 30.303936,-97.754355\n",
      "Washington 38.904103,-77.017229\n",
      "Chicago 41.837551,-87.681844\n"
     ]
    }
   ],
   "source": [
    "#Over this:\n",
    "for key in cities.keys():\n",
    "    print key, cities[key]"
   ]
  },
  {
   "cell_type": "code",
   "execution_count": 123,
   "metadata": {
    "collapsed": false
   },
   "outputs": [],
   "source": [
    "base_url = 'https://api.forecast.io/forecast/ddff5421ea9208aa56645e77155f6aae/'"
   ]
  },
  {
   "cell_type": "code",
   "execution_count": 124,
   "metadata": {
    "collapsed": false
   },
   "outputs": [],
   "source": [
    "#Query the API:\n",
    "for city,loc in cities.iteritems():\n",
    "    start_time = end_time - datetime.timedelta(days=30)\n",
    "    while start_time < end_time:\n",
    "        #Pull the value from the API:\n",
    "        input_url = base_url + loc + \",\" + start_time.strftime(\"%Y-%m-%dT12:00:00\") #loc = lat/long coords from cities dictionary\n",
    "        r = requests.get(input_url)\n",
    "        #Pull the dayDict from the JSON return:\n",
    "        dayDict = r.json()['daily']['data'][0]\n",
    "        #Push data to SQL:\n",
    "        with con:\n",
    "            cur.execute(\"UPDATE daily_temp SET \" + city + ' = ' + str(dayDict['temperatureMax']) + ' WHERE day_of_reading = ' + start_time.strftime('%s'))\n",
    "        start_time += datetime.timedelta(days=1) #Increase days by one to eventually break infinite loop.\n",
    "\n",
    "con.close()\n",
    "                        "
   ]
  },
  {
   "cell_type": "markdown",
   "metadata": {},
   "source": [
    "Ok, that worked, let's analyze the data.'"
   ]
  },
  {
   "cell_type": "code",
   "execution_count": 6,
   "metadata": {
    "collapsed": false
   },
   "outputs": [],
   "source": [
    "#Pull the sqlite3 database into a dataframe:\n",
    "import sqlite3 as lite\n",
    "import pandas as pd\n",
    "import matplotlib.pyplot as plt\n",
    "%matplotlib inline\n",
    "\n",
    "#Establish database connection:\n",
    "con = lite.connect(\"weather.db\")\n",
    "cur = con.cursor()\n",
    "df = pd.read_sql_query(\"SELECT * from daily_temp ORDER BY day_of_reading\",con,index_col='day_of_reading')"
   ]
  },
  {
   "cell_type": "code",
   "execution_count": 7,
   "metadata": {
    "collapsed": false
   },
   "outputs": [
    {
     "data": {
      "text/html": [
       "<div>\n",
       "<table border=\"1\" class=\"dataframe\">\n",
       "  <thead>\n",
       "    <tr style=\"text-align: right;\">\n",
       "      <th></th>\n",
       "      <th>Atlanta</th>\n",
       "      <th>Austin</th>\n",
       "      <th>Boston</th>\n",
       "      <th>Chicago</th>\n",
       "      <th>Washington</th>\n",
       "    </tr>\n",
       "    <tr>\n",
       "      <th>day_of_reading</th>\n",
       "      <th></th>\n",
       "      <th></th>\n",
       "      <th></th>\n",
       "      <th></th>\n",
       "      <th></th>\n",
       "    </tr>\n",
       "  </thead>\n",
       "  <tbody>\n",
       "    <tr>\n",
       "      <th>1438119568</th>\n",
       "      <td>94.16</td>\n",
       "      <td>98.79</td>\n",
       "      <td>82.61</td>\n",
       "      <td>87.48</td>\n",
       "      <td>89.97</td>\n",
       "    </tr>\n",
       "    <tr>\n",
       "      <th>1438205968</th>\n",
       "      <td>92.47</td>\n",
       "      <td>98.66</td>\n",
       "      <td>90.68</td>\n",
       "      <td>87.56</td>\n",
       "      <td>89.45</td>\n",
       "    </tr>\n",
       "    <tr>\n",
       "      <th>1438292368</th>\n",
       "      <td>94.27</td>\n",
       "      <td>100.65</td>\n",
       "      <td>87.99</td>\n",
       "      <td>87.51</td>\n",
       "      <td>88.29</td>\n",
       "    </tr>\n",
       "    <tr>\n",
       "      <th>1438378768</th>\n",
       "      <td>92.60</td>\n",
       "      <td>100.86</td>\n",
       "      <td>87.06</td>\n",
       "      <td>87.09</td>\n",
       "      <td>89.31</td>\n",
       "    </tr>\n",
       "    <tr>\n",
       "      <th>1438465168</th>\n",
       "      <td>90.10</td>\n",
       "      <td>97.70</td>\n",
       "      <td>87.59</td>\n",
       "      <td>86.46</td>\n",
       "      <td>88.84</td>\n",
       "    </tr>\n",
       "  </tbody>\n",
       "</table>\n",
       "</div>"
      ],
      "text/plain": [
       "                Atlanta  Austin  Boston  Chicago  Washington\n",
       "day_of_reading                                              \n",
       "1438119568        94.16   98.79   82.61    87.48       89.97\n",
       "1438205968        92.47   98.66   90.68    87.56       89.45\n",
       "1438292368        94.27  100.65   87.99    87.51       88.29\n",
       "1438378768        92.60  100.86   87.06    87.09       89.31\n",
       "1438465168        90.10   97.70   87.59    86.46       88.84"
      ]
     },
     "execution_count": 7,
     "metadata": {},
     "output_type": "execute_result"
    }
   ],
   "source": [
    "df.head()"
   ]
  },
  {
   "cell_type": "code",
   "execution_count": 8,
   "metadata": {
    "collapsed": false
   },
   "outputs": [
    {
     "data": {
      "text/plain": [
       "Atlanta       94.16\n",
       "Austin        98.79\n",
       "Boston        82.61\n",
       "Chicago       87.48\n",
       "Washington    89.97\n",
       "Name: 1438119568, dtype: float64"
      ]
     },
     "execution_count": 8,
     "metadata": {},
     "output_type": "execute_result"
    }
   ],
   "source": [
    "df.ix[1438119568]"
   ]
  },
  {
   "cell_type": "code",
   "execution_count": 9,
   "metadata": {
    "collapsed": false
   },
   "outputs": [
    {
     "data": {
      "text/plain": [
       "94.159999999999997"
      ]
     },
     "execution_count": 9,
     "metadata": {},
     "output_type": "execute_result"
    }
   ],
   "source": [
    "df.ix[1438119568][0]"
   ]
  },
  {
   "cell_type": "code",
   "execution_count": 10,
   "metadata": {
    "collapsed": false
   },
   "outputs": [
    {
     "data": {
      "text/plain": [
       "day_of_reading\n",
       "1438119568     98.79\n",
       "1438205968     98.66\n",
       "1438292368    100.65\n",
       "1438378768    100.86\n",
       "1438465168     97.70\n",
       "1438551568     97.93\n",
       "1438637968     97.78\n",
       "1438724368     97.62\n",
       "1438810768     99.54\n",
       "1438897168     99.84\n",
       "1438983568    100.60\n",
       "1439069968    101.61\n",
       "1439156368    101.35\n",
       "1439242768    102.70\n",
       "1439329168    102.93\n",
       "1439415568    102.65\n",
       "1439501968    101.90\n",
       "1439588368     99.00\n",
       "1439674768     96.18\n",
       "1439761168     96.03\n",
       "1439847568     94.70\n",
       "1439933968     96.73\n",
       "1440020368     95.81\n",
       "1440106768     82.37\n",
       "1440193168     89.30\n",
       "1440279568     96.81\n",
       "1440365968     97.33\n",
       "1440452368     98.06\n",
       "1440538768     96.45\n",
       "1440625168     95.10\n",
       "Name: Austin, dtype: float64"
      ]
     },
     "execution_count": 10,
     "metadata": {},
     "output_type": "execute_result"
    }
   ],
   "source": [
    "df[\"Austin\"]"
   ]
  },
  {
   "cell_type": "code",
   "execution_count": 11,
   "metadata": {
    "collapsed": false
   },
   "outputs": [
    {
     "data": {
      "text/plain": [
       "[98.790000000000006,\n",
       " 98.659999999999997,\n",
       " 100.65000000000001,\n",
       " 100.86,\n",
       " 97.700000000000003,\n",
       " 97.930000000000007,\n",
       " 97.780000000000001,\n",
       " 97.620000000000005,\n",
       " 99.540000000000006,\n",
       " 99.840000000000003,\n",
       " 100.59999999999999,\n",
       " 101.61,\n",
       " 101.34999999999999,\n",
       " 102.7,\n",
       " 102.93000000000001,\n",
       " 102.65000000000001,\n",
       " 101.90000000000001,\n",
       " 99.0,\n",
       " 96.180000000000007,\n",
       " 96.030000000000001,\n",
       " 94.700000000000003,\n",
       " 96.730000000000004,\n",
       " 95.810000000000002,\n",
       " 82.370000000000005,\n",
       " 89.299999999999997,\n",
       " 96.810000000000002,\n",
       " 97.329999999999998,\n",
       " 98.060000000000002,\n",
       " 96.450000000000003,\n",
       " 95.099999999999994]"
      ]
     },
     "execution_count": 11,
     "metadata": {},
     "output_type": "execute_result"
    }
   ],
   "source": [
    "df[\"Austin\"].tolist()"
   ]
  },
  {
   "cell_type": "code",
   "execution_count": 12,
   "metadata": {
    "collapsed": false
   },
   "outputs": [
    {
     "name": "stdout",
     "output_type": "stream",
     "text": [
      "0 98.79 1 98.66 0.13\n",
      "1 98.66 2 100.65 1.99\n",
      "2 100.65 3 100.86 0.21\n",
      "3 100.86 4 97.7 3.16\n",
      "4 97.7 5 97.93 0.23\n",
      "5 97.93 6 97.78 0.15\n",
      "6 97.78 7 97.62 0.16\n",
      "7 97.62 8 99.54 1.92\n",
      "8 99.54 9 99.84 0.3\n",
      "9 99.84 10 100.6 0.76\n",
      "10 100.6 11 101.61 1.01\n",
      "11 101.61 12 101.35 0.26\n",
      "12 101.35 13 102.7 1.35\n",
      "13 102.7 14 102.93 0.23\n",
      "14 102.93 15 102.65 0.28\n",
      "15 102.65 16 101.9 0.75\n",
      "16 101.9 17 99.0 2.9\n",
      "17 99.0 18 96.18 2.82\n",
      "18 96.18 19 96.03 0.15\n",
      "19 96.03 20 94.7 1.33\n",
      "20 94.7 21 96.73 2.03\n",
      "21 96.73 22 95.81 0.92\n",
      "22 95.81 23 82.37 13.44\n",
      "23 82.37 24 89.3 6.93\n",
      "24 89.3 25 96.81 7.51\n",
      "25 96.81 26 97.33 0.52\n",
      "26 97.33 27 98.06 0.73\n",
      "27 98.06 28 96.45 1.61\n",
      "28 96.45 29 95.1 1.35\n"
     ]
    }
   ],
   "source": [
    "#Testing the waters...for calculating change within the set:\n",
    "for index,value in enumerate(df[\"Austin\"].tolist()):\n",
    "    if index < len(df[\"Austin\"].tolist()) - 1:\n",
    "        delta = df[\"Austin\"].tolist()[index+1] - value\n",
    "        print index,value, index+1, df[\"Austin\"].tolist()[index+1], abs(delta)"
   ]
  },
  {
   "cell_type": "code",
   "execution_count": 13,
   "metadata": {
    "collapsed": true
   },
   "outputs": [],
   "source": [
    "def calc_max_delta(df_list):\n",
    "    delta_list = []\n",
    "    for index,value in enumerate(df_list):\n",
    "        if index < len(df_list) -1:\n",
    "            delta_list.append(abs(df_list[index+1] - value))\n",
    "    return max(delta_list)"
   ]
  },
  {
   "cell_type": "code",
   "execution_count": 14,
   "metadata": {
    "collapsed": false
   },
   "outputs": [],
   "source": [
    "deltaDict = {}\n",
    "\n",
    "for city in df.columns:\n",
    "    max_delta = calc_max_delta(df[city].tolist())\n",
    "    deltaDict[city] = max_delta"
   ]
  },
  {
   "cell_type": "code",
   "execution_count": 15,
   "metadata": {
    "collapsed": false
   },
   "outputs": [
    {
     "data": {
      "text/plain": [
       "{'Atlanta': 10.489999999999995,\n",
       " 'Austin': 13.439999999999998,\n",
       " 'Boston': 11.219999999999999,\n",
       " 'Chicago': 10.640000000000001,\n",
       " 'Washington': 8.8599999999999994}"
      ]
     },
     "execution_count": 15,
     "metadata": {},
     "output_type": "execute_result"
    }
   ],
   "source": [
    "deltaDict"
   ]
  },
  {
   "cell_type": "code",
   "execution_count": 16,
   "metadata": {
    "collapsed": true
   },
   "outputs": [],
   "source": [
    "#Find max delta in a dict of arbitrary size:\n",
    "def find_max(data_dict):\n",
    "    max_city = \"\"\n",
    "    max_change = 0\n",
    "    for city,change in data_dict.iteritems():\n",
    "        if change > max_change:\n",
    "            max_city = city\n",
    "            max_change = change\n",
    "    return \"{0} experienced the largest between day change in temperature with a delta of {1}\".format(max_city, max_change)\n",
    "    "
   ]
  },
  {
   "cell_type": "code",
   "execution_count": 17,
   "metadata": {
    "collapsed": false
   },
   "outputs": [
    {
     "data": {
      "text/plain": [
       "'Austin experienced the largest between day change in temperature with a delta of 13.44'"
      ]
     },
     "execution_count": 17,
     "metadata": {},
     "output_type": "execute_result"
    }
   ],
   "source": [
    "#Find the city with the largest \n",
    "find_max(deltaDict)"
   ]
  },
  {
   "cell_type": "code",
   "execution_count": 18,
   "metadata": {
    "collapsed": false
   },
   "outputs": [
    {
     "data": {
      "text/html": [
       "<div>\n",
       "<table border=\"1\" class=\"dataframe\">\n",
       "  <thead>\n",
       "    <tr style=\"text-align: right;\">\n",
       "      <th></th>\n",
       "      <th>Atlanta</th>\n",
       "      <th>Austin</th>\n",
       "      <th>Boston</th>\n",
       "      <th>Chicago</th>\n",
       "      <th>Washington</th>\n",
       "    </tr>\n",
       "  </thead>\n",
       "  <tbody>\n",
       "    <tr>\n",
       "      <th>count</th>\n",
       "      <td>30.000000</td>\n",
       "      <td>30.000000</td>\n",
       "      <td>30.000000</td>\n",
       "      <td>30.000000</td>\n",
       "      <td>30.00000</td>\n",
       "    </tr>\n",
       "    <tr>\n",
       "      <th>mean</th>\n",
       "      <td>89.188667</td>\n",
       "      <td>97.899333</td>\n",
       "      <td>80.885333</td>\n",
       "      <td>80.868667</td>\n",
       "      <td>86.27300</td>\n",
       "    </tr>\n",
       "    <tr>\n",
       "      <th>std</th>\n",
       "      <td>3.698746</td>\n",
       "      <td>4.128977</td>\n",
       "      <td>5.871790</td>\n",
       "      <td>5.782688</td>\n",
       "      <td>3.75586</td>\n",
       "    </tr>\n",
       "    <tr>\n",
       "      <th>min</th>\n",
       "      <td>83.710000</td>\n",
       "      <td>82.370000</td>\n",
       "      <td>70.050000</td>\n",
       "      <td>67.210000</td>\n",
       "      <td>77.97000</td>\n",
       "    </tr>\n",
       "    <tr>\n",
       "      <th>25%</th>\n",
       "      <td>85.727500</td>\n",
       "      <td>96.520000</td>\n",
       "      <td>77.715000</td>\n",
       "      <td>77.785000</td>\n",
       "      <td>83.74250</td>\n",
       "    </tr>\n",
       "    <tr>\n",
       "      <th>50%</th>\n",
       "      <td>89.190000</td>\n",
       "      <td>97.995000</td>\n",
       "      <td>82.505000</td>\n",
       "      <td>80.840000</td>\n",
       "      <td>86.86000</td>\n",
       "    </tr>\n",
       "    <tr>\n",
       "      <th>75%</th>\n",
       "      <td>92.567500</td>\n",
       "      <td>100.637500</td>\n",
       "      <td>84.892500</td>\n",
       "      <td>86.140000</td>\n",
       "      <td>89.19250</td>\n",
       "    </tr>\n",
       "    <tr>\n",
       "      <th>max</th>\n",
       "      <td>95.900000</td>\n",
       "      <td>102.930000</td>\n",
       "      <td>90.680000</td>\n",
       "      <td>91.100000</td>\n",
       "      <td>92.56000</td>\n",
       "    </tr>\n",
       "  </tbody>\n",
       "</table>\n",
       "</div>"
      ],
      "text/plain": [
       "         Atlanta      Austin     Boston    Chicago  Washington\n",
       "count  30.000000   30.000000  30.000000  30.000000    30.00000\n",
       "mean   89.188667   97.899333  80.885333  80.868667    86.27300\n",
       "std     3.698746    4.128977   5.871790   5.782688     3.75586\n",
       "min    83.710000   82.370000  70.050000  67.210000    77.97000\n",
       "25%    85.727500   96.520000  77.715000  77.785000    83.74250\n",
       "50%    89.190000   97.995000  82.505000  80.840000    86.86000\n",
       "75%    92.567500  100.637500  84.892500  86.140000    89.19250\n",
       "max    95.900000  102.930000  90.680000  91.100000    92.56000"
      ]
     },
     "execution_count": 18,
     "metadata": {},
     "output_type": "execute_result"
    }
   ],
   "source": [
    "#Find the Mean and other summary statistics for for each city:\n",
    "df.describe()"
   ]
  },
  {
   "cell_type": "code",
   "execution_count": 19,
   "metadata": {
    "collapsed": false
   },
   "outputs": [
    {
     "data": {
      "text/plain": [
       "<matplotlib.axes.AxesSubplot at 0x10da514d0>"
      ]
     },
     "execution_count": 19,
     "metadata": {},
     "output_type": "execute_result"
    },
    {
     "data": {
      "image/png": "[encoded data removed]",
      "text/plain": [
       "<matplotlib.figure.Figure at 0x10da9b1d0>"
      ]
     },
     "metadata": {},
     "output_type": "display_data"
    }
   ],
   "source": [
    "#Look at the distribution of Atlantas days:\n",
    "df['Atlanta'].hist()"
   ]
  },
  {
   "cell_type": "code",
   "execution_count": 37,
   "metadata": {
    "collapsed": false
   },
   "outputs": [
    {
     "data": {
      "image/png": "[encoded data removed]",
      "text/plain": [
       "<matplotlib.figure.Figure at 0x10deb7bd0>"
      ]
     },
     "metadata": {},
     "output_type": "display_data"
    }
   ],
   "source": [
    "#Plot max temp across the 30 days for all cities to find trends:\n",
    "for city in df.columns:\n",
    "    df[city].plot(title=\"Temperature across past 30 days\",legend=True)"
   ]
  },
  {
   "cell_type": "code",
   "execution_count": 38,
   "metadata": {
    "collapsed": false
   },
   "outputs": [
    {
     "data": {
      "image/png": "[encoded data removed]",
      "text/plain": [
       "<matplotlib.figure.Figure at 0x10e119610>"
      ]
     },
     "metadata": {},
     "output_type": "display_data"
    }
   ],
   "source": [
    "#To place the legend outside the plot:\n",
    "for city in df.columns:\n",
    "    df[city].plot(title=\"Temperature across past 30 days\",legend=True).legend(loc='center left', bbox_to_anchor=(1, 0.5))"
   ]
  },
  {
   "cell_type": "code",
   "execution_count": null,
   "metadata": {
    "collapsed": true
   },
   "outputs": [],
   "source": []
  }
 ],
 "metadata": {
  "kernelspec": {
   "display_name": "Python 2",
   "language": "python",
   "name": "python2"
  },
  "language_info": {
   "codemirror_mode": {
    "name": "ipython",
    "version": 2
   },
   "file_extension": ".py",
   "mimetype": "text/x-python",
   "name": "python",
   "nbconvert_exporter": "python",
   "pygments_lexer": "ipython2",
   "version": "2.7.6"
  }
 },
 "nbformat": 4,
 "nbformat_minor": 0
}
